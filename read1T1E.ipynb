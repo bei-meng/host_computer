{
 "cells": [
  {
   "cell_type": "code",
   "execution_count": 1,
   "metadata": {},
   "outputs": [],
   "source": [
    "from pc import PS\n",
    "from modules import ADC,DAC,CHIP\n",
    "from cimCommand import CMD,CmdData,Packet\n",
    "from cimCommand.singleCmdInfo import *"
   ]
  },
  {
   "cell_type": "code",
   "execution_count": 2,
   "metadata": {},
   "outputs": [
    {
     "name": "stdout",
     "output_type": "stream",
     "text": [
      "Connected to 192.168.1.10:7\n",
      "local ip: 192.168.1.15 local port: 58324\n"
     ]
    }
   ],
   "source": [
    "# 用于和下位机交互通信\n",
    "ps=PS(\"192.168.1.10\", 7,delay=0.3,debug=False)"
   ]
  },
  {
   "cell_type": "code",
   "execution_count": 4,
   "metadata": {},
   "outputs": [],
   "source": [
    "# 控制ADC\n",
    "adc=ADC(ps)\n",
    "# 控制DAC\n",
    "dac=DAC(ps)\n",
    "# 芯片，读写操作，device_cfg\n",
    "chip=CHIP(adc,dac,ps)"
   ]
  },
  {
   "cell_type": "code",
   "execution_count": 65,
   "metadata": {},
   "outputs": [
    {
     "name": "stdout",
     "output_type": "stream",
     "text": [
      "Connection closed.\n"
     ]
    }
   ],
   "source": [
    "ps.close()"
   ]
  },
  {
   "cell_type": "code",
   "execution_count": 42,
   "metadata": {},
   "outputs": [
    {
     "name": "stdout",
     "output_type": "stream",
     "text": [
      "------------------------------ 发送指令: ------------------------------ \n",
      "模式：1,指令：gain\n",
      "字节码：55 aa 01 10 00 00 00 03\n",
      "\n",
      "------------------------------ 指令发送完成！------------------------------ \n",
      "\n"
     ]
    }
   ],
   "source": [
    "adc.set_gain(3)"
   ]
  },
  {
   "cell_type": "code",
   "execution_count": 38,
   "metadata": {},
   "outputs": [
    {
     "name": "stdout",
     "output_type": "stream",
     "text": [
      "------------------------------ 发送指令: ------------------------------ \n",
      "模式：1,指令：device_cfg\n",
      "字节码：55 aa 01 07 00 00 07 fd\n",
      "\n",
      "------------------------------ 指令发送完成！------------------------------ \n",
      "\n"
     ]
    }
   ],
   "source": [
    "chip.set_device_cfg(deviceType=1)"
   ]
  },
  {
   "cell_type": "code",
   "execution_count": 39,
   "metadata": {},
   "outputs": [],
   "source": [
    "\n",
    "def adc_to_voltage(data, vref=1.25):\n",
    "    # 将十六进制字符串转换为整数\n",
    "    data = int(data, 16)\n",
    "    # 确保数据在16位范围内\n",
    "    data &= 0xFFFF\n",
    "    # 将16位有符号数转换为Python整数\n",
    "    if data & 0x8000:  # 若符号位为1，则表示负数\n",
    "        data -= 0x10000\n",
    "\n",
    "    # 将数据转换为电压\n",
    "    voltage = (data / (2**15-1)) * vref  # 32767 是0x7FFF对应的正最大值\n",
    "    return voltage"
   ]
  },
  {
   "cell_type": "code",
   "execution_count": 165,
   "metadata": {},
   "outputs": [],
   "source": [
    "# ps.delay = 0.3\n",
    "ps.debug = True"
   ]
  },
  {
   "cell_type": "code",
   "execution_count": 51,
   "metadata": {},
   "outputs": [
    {
     "name": "stdout",
     "output_type": "stream",
     "text": [
      "------------------------------ 发送指令: ------------------------------ \n",
      "模式：1,指令：flt\n",
      "字节码：55 aa 01 09 00 00 0f ff\n",
      "\n",
      "------------------------------ 指令发送完成！------------------------------ \n",
      "\n"
     ]
    }
   ],
   "source": [
    "pkts=Packet()\n",
    "pkts.append_cmdlist([\n",
    "    CMD(FLT,command_data=CmdData(0x0FFF)),                      # 配置flt\n",
    "],mode=1)\n",
    "\n",
    "# 发送指令\n",
    "ps.send_packets(pkts)"
   ]
  },
  {
   "cell_type": "code",
   "execution_count": 128,
   "metadata": {},
   "outputs": [],
   "source": [
    "def get_data(num:list):\n",
    "    bank,index = 0,0\n",
    "    for i in num:\n",
    "        bank_tmp,index_tmp = chip.numToBank_Index(i)\n",
    "        bank = bank | (1<<bank_tmp)\n",
    "        index = index | (1<<index_tmp)\n",
    "    return bank,index"
   ]
  },
  {
   "cell_type": "code",
   "execution_count": 130,
   "metadata": {},
   "outputs": [
    {
     "name": "stdout",
     "output_type": "stream",
     "text": [
      "[0, 32, 64, 96, 128, 160, 192, 224, 1, 33, 65, 97, 129, 161, 193, 225]\n"
     ]
    }
   ],
   "source": [
    "colnum=[i*32 for i in range(8)]+[i*32+1 for i in range(8)]\n",
    "\n",
    "print(colnum)"
   ]
  },
  {
   "cell_type": "code",
   "execution_count": 2,
   "metadata": {},
   "outputs": [
    {
     "ename": "NameError",
     "evalue": "name 'Packet' is not defined",
     "output_type": "error",
     "traceback": [
      "\u001b[1;31m---------------------------------------------------------------------------\u001b[0m",
      "\u001b[1;31mNameError\u001b[0m                                 Traceback (most recent call last)",
      "Cell \u001b[1;32mIn[2], line 5\u001b[0m\n\u001b[0;32m      3\u001b[0m colnum\u001b[38;5;241m=\u001b[39m[[\u001b[38;5;241m97\u001b[39m]]\n\u001b[0;32m      4\u001b[0m \u001b[38;5;66;03m# colnum=[[0,32], [64,96], [128,160], [192,224], [1,33], [65,97], [129,161], [193,225]]\u001b[39;00m\n\u001b[1;32m----> 5\u001b[0m pkts\u001b[38;5;241m=\u001b[39mPacket()\n\u001b[0;32m      6\u001b[0m pkts\u001b[38;5;241m.\u001b[39mappend_cmdlist([CMD(CIM_RESET,command_data\u001b[38;5;241m=\u001b[39mCmdData(\u001b[38;5;241m1\u001b[39m))],mode\u001b[38;5;241m=\u001b[39m\u001b[38;5;241m1\u001b[39m)                 \u001b[38;5;66;03m# reset指令\u001b[39;00m\n\u001b[0;32m      7\u001b[0m ps\u001b[38;5;241m.\u001b[39msend_packets(pkts)\n",
      "\u001b[1;31mNameError\u001b[0m: name 'Packet' is not defined"
     ]
    }
   ],
   "source": [
    "# 配置行列的latch\n",
    "rownum=[[23]]\n",
    "colnum=[[97]]\n",
    "# colnum=[[0,32], [64,96], [128,160], [192,224], [1,33], [65,97], [129,161], [193,225]]\n",
    "pkts=Packet()\n",
    "pkts.append_cmdlist([CMD(CIM_RESET,command_data=CmdData(1))],mode=1)                 # reset指令\n",
    "ps.send_packets(pkts)\n",
    "\n",
    "# 配置行\n",
    "for i in rownum:\n",
    "    xbank,xindex = get_data(i)\n",
    "    pkts=Packet()\n",
    "    pkts.append_cmdlist([\n",
    "        # 行reg配置\n",
    "        CMD(CIM_DATA_IN,command_data=CmdData(xindex)),       # 第xindex位置1\n",
    "        CMD(FAST_COMMAND_1,command_data=CmdData(FAST_COMMAND1_CONF.cfg_cim_data_in)),       # cfg_cim_data_in\n",
    "        CMD(FAST_COMMAND_1,command_data=CmdData(FAST_COMMAND1_CONF.cfg_reg_clk)),           # cfg_reg_clk\n",
    "\n",
    "        # 行bank配置\n",
    "        CMD(ROW_COL_SEL,command_data=CmdData(1)),               # 设置为行模式\n",
    "        CMD(CIM_BANK_SEL,command_data=CmdData(xbank)),       # 行bank选择\n",
    "        CMD(FAST_COMMAND_1,command_data=CmdData(FAST_COMMAND1_CONF.cfg_bank_sel)),          # cfg_bank_sel\n",
    "        CMD(FAST_COMMAND_1,command_data=CmdData(FAST_COMMAND1_CONF.cfg_latch_clk)),         # cfg_latch_clk\n",
    "    ],mode=1)\n",
    "    ps.send_packets(pkts)\n",
    "\n",
    "# 配置列\n",
    "for i in colnum:\n",
    "    ybank,yindex = get_data(i)\n",
    "    \n",
    "    pkts=Packet()\n",
    "    pkts.append_cmdlist([\n",
    "        # 列reg配置\n",
    "        CMD(CIM_DATA_IN,command_data=CmdData(yindex)),       # 第yindex位置1\n",
    "        CMD(FAST_COMMAND_1,command_data=CmdData(FAST_COMMAND1_CONF.cfg_cim_data_in)),       # cfg_cim_data_in\n",
    "        CMD(FAST_COMMAND_1,command_data=CmdData(FAST_COMMAND1_CONF.cfg_reg_clk)),           # cfg_reg_clk\n",
    "\n",
    "        # 列bank配置\n",
    "        CMD(ROW_COL_SEL,command_data=CmdData(0)),               # 设置为列模式\n",
    "        CMD(CIM_BANK_SEL,command_data=CmdData(ybank)),       # 列bank选择\n",
    "        CMD(FAST_COMMAND_1,command_data=CmdData(FAST_COMMAND1_CONF.cfg_bank_sel)),          # cfg_bank_sel\n",
    "        CMD(FAST_COMMAND_1,command_data=CmdData(FAST_COMMAND1_CONF.cfg_latch_clk)),         # cfg_latch_clk\n",
    "    ],mode=1)\n",
    "    ps.send_packets(pkts)\n",
    "\n",
    "# 设置为read模式\n",
    "pkts=Packet()\n",
    "pkts.append_cmdlist([\n",
    "    CMD(ROW_CTRL,command_data=CmdData(1)),                  # 配置行到施加电压\n",
    "    CMD(COL_CTRL,command_data=CmdData(1)),                  # 配置列到TIA  \n",
    "])\n",
    "ps.send_packets(pkts)\n",
    "\n",
    "# dac.set_voltage(0,dac_num=0,dac_channel=0)           # ROW_Va电压\n",
    "# dac.set_voltage(0,dac_num=0,dac_channel=1)           # ROW_Va电压\n",
    "# dac.set_voltage(0,dac_num=0,dac_channel=2)           # ROW_Va电压\n",
    "# dac.set_voltage(0,dac_num=0,dac_channel=3)           # ROW_Va电压\n",
    "\n",
    "v = 0.4\n",
    "dac.set_voltage(v,dac_num=0,dac_channel=4)           # ROW_Va电压\n",
    "dac.set_voltage(v,dac_num=0,dac_channel=5)           # ROW_Va电压\n",
    "dac.set_voltage(v,dac_num=0,dac_channel=6)           # ROW_Va电压\n",
    "dac.set_voltage(v,dac_num=0,dac_channel=7)           # ROW_Va电压\n",
    "\n",
    "\n",
    "dac.set_voltage(v,dac_num=1,dac_channel=0)           # ROW_Va电压\n",
    "dac.set_voltage(v,dac_num=1,dac_channel=1)           # ROW_Va电压\n",
    "dac.set_voltage(v,dac_num=1,dac_channel=2)           # ROW_Va电压\n",
    "dac.set_voltage(v,dac_num=1,dac_channel=3)           # ROW_Va电压\n",
    "\n",
    "# 设置PCB的TIA，为列\n",
    "pkts=Packet()\n",
    "pkts.append_cmdlist([CMD(ROW_COL_SW,command_data=CmdData(1)),],mode=1)\n",
    "\n",
    "# 发送指令\n",
    "ps.send_packets(pkts)\n",
    "\n",
    "# # 设置ADC采样点数\n",
    "# chip.adc.set_sample_times(32)\n",
    "\n",
    "pkts=Packet()\n",
    "pkts.append_cmdlist([\n",
    "    CMD(PULSE_CYC,command_data=CmdData(0)),                                                 # 翻转\n",
    "    CMD(FAST_COMMAND_1,command_data=CmdData(FAST_COMMAND1_CONF.cfg_col_pulse)),             # cfg_col_pulse，配置列为常1\n",
    "    CMD(FAST_COMMAND_1,command_data=CmdData(FAST_COMMAND1_CONF.cfg_row_read)),              # 然后开始读\n",
    "    CMD(FAST_COMMAND_1,command_data=CmdData(FAST_COMMAND1_CONF.cfg_col_pulse)),             # cfg_col_pulse，读完后，把列电压翻转为0\n",
    "],mode=1)\n",
    "chip.ps.send_packets(pkts)\n"
   ]
  },
  {
   "cell_type": "code",
   "execution_count": null,
   "metadata": {},
   "outputs": [],
   "source": []
  },
  {
   "cell_type": "code",
   "execution_count": 144,
   "metadata": {},
   "outputs": [
    {
     "name": "stdout",
     "output_type": "stream",
     "text": [
      "DAC: adc3_outD\n",
      "---Received---\n",
      "b'\\x85\\x11\\x00\\x00'\n",
      "\n",
      "电压int:  0.17109439374980925\n"
     ]
    }
   ],
   "source": [
    "vres = []\n",
    "cond_res = []\n",
    "for i in colnum:\n",
    "    for j in i:\n",
    "        TIA_num = adc.TIA_index_map(j,1,True)\n",
    "        adc_num, adc_channel = int(TIA_num/4),TIA_num%4\n",
    "\n",
    "        channel_map = {0: 'A', 1: 'B', 2: 'C', 3: 'D'}\n",
    "        pkts=Packet()\n",
    "        adc_out = CMD(dict(\n",
    "            command_addr = 65+TIA_num,\n",
    "            command_type = COMMAND_TYPE[1],\n",
    "            n_addr_bytes = N_ADDR_BYTES[0],\n",
    "            n_data_bytes = N_DATA_BYTES[0],\n",
    "            command_name = f\"adc{adc_num}_out{channel_map[adc_channel]}\",\n",
    "            command_data = CmdData(0),\n",
    "            command_description = \"从ADC对应通道读取数据\"\n",
    "        ))\n",
    "        pkts.append_cmdlist([adc_out],mode=2)\n",
    "        print(\"DAC:\",f\"adc{adc_num}_out{channel_map[adc_channel]}\")\n",
    "        # 发送指令\n",
    "        ps.send_packets(pkts)\n",
    "        # 接收信息\n",
    "        # 高16bit：0，低16bit：寄存器的16bit值\n",
    "        message = ps.receive_packet(f\"adc读取:{adc_out.command_name}\")\n",
    "\n",
    "        voltage_sample_hex = message.hex()[2:4] + message.hex()[0:2]\n",
    "        # print(\"电压hex: \",voltage_sample_hex)\n",
    "        voltage_sample_int = adc_to_voltage(voltage_sample_hex)\n",
    "        vres.append(voltage_sample_int)\n",
    "        print(\"电压int: \",voltage_sample_int)\n",
    "        res_meas = 0.1 * (10e3+200) * 6.0241 / (voltage_sample_int+1e-10)\n",
    "        cond_res.append(res_meas)\n",
    "    # print(res_meas)"
   ]
  },
  {
   "cell_type": "code",
   "execution_count": 147,
   "metadata": {},
   "outputs": [
    {
     "name": "stdout",
     "output_type": "stream",
     "text": [
      "DAC: adc3_outD\n",
      "---Received---\n",
      "b'\\x87\\x11\\x00\\x00'\n",
      "\n",
      "电压int:  0.17117069002349924\n"
     ]
    }
   ],
   "source": [
    "vres2 = []\n",
    "cond_res2 = []\n",
    "for i in colnum:\n",
    "    TIA_num = adc.TIA_index_map(i[0],1,True)\n",
    "    adc_num, adc_channel = int(TIA_num/4),TIA_num%4\n",
    "\n",
    "    channel_map = {0: 'A', 1: 'B', 2: 'C', 3: 'D'}\n",
    "    pkts=Packet()\n",
    "    adc_out = CMD(dict(\n",
    "        command_addr = 65+TIA_num,\n",
    "        command_type = COMMAND_TYPE[1],\n",
    "        n_addr_bytes = N_ADDR_BYTES[0],\n",
    "        n_data_bytes = N_DATA_BYTES[0],\n",
    "        command_name = f\"adc{adc_num}_out{channel_map[adc_channel]}\",\n",
    "        command_data = CmdData(0),\n",
    "        command_description = \"从ADC对应通道读取数据\"\n",
    "    ))\n",
    "    pkts.append_cmdlist([adc_out],mode=2)\n",
    "    print(\"DAC:\",f\"adc{adc_num}_out{channel_map[adc_channel]}\")\n",
    "    # 发送指令\n",
    "    ps.send_packets(pkts)\n",
    "    # 接收信息\n",
    "    # 高16bit：0，低16bit：寄存器的16bit值\n",
    "    message = ps.receive_packet(f\"adc读取:{adc_out.command_name}\")\n",
    "\n",
    "    voltage_sample_hex = message.hex()[2:4] + message.hex()[0:2]\n",
    "    # print(\"电压hex: \",voltage_sample_hex)\n",
    "    voltage_sample_int = adc_to_voltage(voltage_sample_hex)\n",
    "    vres2.append(voltage_sample_int)\n",
    "    print(\"电压int: \",voltage_sample_int)\n",
    "    res_meas = 0.1 * (10e3+200) * 6.0241 / voltage_sample_int\n",
    "    cond_res2.append(res_meas)\n",
    "    # print(res_meas)"
   ]
  },
  {
   "cell_type": "code",
   "execution_count": 150,
   "metadata": {},
   "outputs": [
    {
     "name": "stdout",
     "output_type": "stream",
     "text": [
      "DAC: adc3_outD\n",
      "---Received---\n",
      "b'\\x89\\x11\\x00\\x00'\n",
      "\n",
      "电压int:  0.17124698629718924\n"
     ]
    }
   ],
   "source": [
    "vres3 = []\n",
    "cond_res3 = []\n",
    "for i in colnum:\n",
    "    for j in i:\n",
    "        TIA_num = adc.TIA_index_map(j,1,True)\n",
    "        adc_num, adc_channel = int(TIA_num/4),TIA_num%4\n",
    "\n",
    "        channel_map = {0: 'A', 1: 'B', 2: 'C', 3: 'D'}\n",
    "        pkts=Packet()\n",
    "        adc_out = CMD(dict(\n",
    "            command_addr = 65+TIA_num,\n",
    "            command_type = COMMAND_TYPE[1],\n",
    "            n_addr_bytes = N_ADDR_BYTES[0],\n",
    "            n_data_bytes = N_DATA_BYTES[0],\n",
    "            command_name = f\"adc{adc_num}_out{channel_map[adc_channel]}\",\n",
    "            command_data = CmdData(0),\n",
    "            command_description = \"从ADC对应通道读取数据\"\n",
    "        ))\n",
    "        pkts.append_cmdlist([adc_out],mode=2)\n",
    "        print(\"DAC:\",f\"adc{adc_num}_out{channel_map[adc_channel]}\")\n",
    "        # 发送指令\n",
    "        ps.send_packets(pkts)\n",
    "        # 接收信息\n",
    "        # 高16bit：0，低16bit：寄存器的16bit值\n",
    "        message = ps.receive_packet(f\"adc读取:{adc_out.command_name}\")\n",
    "\n",
    "        voltage_sample_hex = message.hex()[2:4] + message.hex()[0:2]\n",
    "        # print(\"电压hex: \",voltage_sample_hex)\n",
    "        voltage_sample_int = adc_to_voltage(voltage_sample_hex)\n",
    "        vres3.append(voltage_sample_int)\n",
    "        print(\"电压int: \",voltage_sample_int)\n",
    "        res_meas = 0.1 * (10e3+200) * 6.0241 / (voltage_sample_int+1e-10)\n",
    "        cond_res3.append(res_meas)\n",
    "    # print(res_meas)"
   ]
  },
  {
   "cell_type": "code",
   "execution_count": 154,
   "metadata": {},
   "outputs": [
    {
     "name": "stdout",
     "output_type": "stream",
     "text": [
      "DAC: adc3_outD\n",
      "---Received---\n",
      "b'W\\x11\\x00\\x00'\n",
      "\n",
      "电压int:  0.16933957945493944\n"
     ]
    }
   ],
   "source": [
    "vres4 = []\n",
    "cond_res4 = []\n",
    "for i in colnum:\n",
    "    for j in i:\n",
    "        TIA_num = adc.TIA_index_map(j,1,True)\n",
    "        adc_num, adc_channel = int(TIA_num/4),TIA_num%4\n",
    "\n",
    "        channel_map = {0: 'A', 1: 'B', 2: 'C', 3: 'D'}\n",
    "        pkts=Packet()\n",
    "        adc_out = CMD(dict(\n",
    "            command_addr = 65+TIA_num,\n",
    "            command_type = COMMAND_TYPE[1],\n",
    "            n_addr_bytes = N_ADDR_BYTES[0],\n",
    "            n_data_bytes = N_DATA_BYTES[0],\n",
    "            command_name = f\"adc{adc_num}_out{channel_map[adc_channel]}\",\n",
    "            command_data = CmdData(0),\n",
    "            command_description = \"从ADC对应通道读取数据\"\n",
    "        ))\n",
    "        pkts.append_cmdlist([adc_out],mode=2)\n",
    "        print(\"DAC:\",f\"adc{adc_num}_out{channel_map[adc_channel]}\")\n",
    "        # 发送指令\n",
    "        ps.send_packets(pkts)\n",
    "        # 接收信息\n",
    "        # 高16bit：0，低16bit：寄存器的16bit值\n",
    "        message = ps.receive_packet(f\"adc读取:{adc_out.command_name}\")\n",
    "\n",
    "        voltage_sample_hex = message.hex()[2:4] + message.hex()[0:2]\n",
    "        # print(\"电压hex: \",voltage_sample_hex)\n",
    "        voltage_sample_int = adc_to_voltage(voltage_sample_hex)\n",
    "        vres4.append(voltage_sample_int)\n",
    "        print(\"电压int: \",voltage_sample_int)\n",
    "        res_meas = 0.1 * (10e3+200) * 6.0241 / (voltage_sample_int+1e-10)\n",
    "        cond_res4.append(res_meas)\n",
    "    # print(res_meas)"
   ]
  },
  {
   "cell_type": "code",
   "execution_count": 157,
   "metadata": {},
   "outputs": [
    {
     "data": {
      "image/png": "[encoded data removed]",
      "text/plain": [
       "<Figure size 640x480 with 1 Axes>"
      ]
     },
     "metadata": {},
     "output_type": "display_data"
    }
   ],
   "source": [
    "import matplotlib.pyplot as plt\n",
    "plt.figure()\n",
    "plt.plot( vres, marker='o', color='b', linestyle='-', linewidth=2, markersize=6,label = \"23\")\n",
    "plt.plot( vres2, marker='o', color='r', linestyle='-', linewidth=2, markersize=6,label = \"25\")\n",
    "plt.plot( vres3, marker='o', color='g', linestyle='-', linewidth=2, markersize=6,label = \"27\")\n",
    "\n",
    "plt.plot( vres4, marker='*', color='g', linestyle='-', linewidth=2, markersize=6,label = \"three\")\n",
    "plt.legend()\n",
    "plt.show()"
   ]
  },
  {
   "cell_type": "code",
   "execution_count": 179,
   "metadata": {},
   "outputs": [
    {
     "name": "stdout",
     "output_type": "stream",
     "text": [
      "DAC: adc0_outA\n",
      "------------------------------ 发送指令: ------------------------------ \n",
      "模式：2,指令：adc0_outA\n",
      "字节码：55 aa 02 41\n",
      "\n",
      "------------------------------ 指令发送完成！------------------------------ \n",
      "\n",
      "---Received---\n",
      "b'h\\x00\\x00\\x00'\n",
      "\n",
      "电压int:  0.003967406231879635\n",
      "DAC: adc0_outB\n",
      "------------------------------ 发送指令: ------------------------------ \n",
      "模式：2,指令：adc0_outB\n",
      "字节码：55 aa 02 42\n",
      "\n",
      "------------------------------ 指令发送完成！------------------------------ \n",
      "\n",
      "---Received---\n",
      "b'\\xa1\\xfe\\xff\\xff'\n",
      "\n",
      "电压int:  -0.01338999603259377\n",
      "DAC: adc0_outC\n",
      "------------------------------ 发送指令: ------------------------------ \n",
      "模式：2,指令：adc0_outC\n",
      "字节码：55 aa 02 43\n",
      "\n",
      "------------------------------ 指令发送完成！------------------------------ \n",
      "\n",
      "---Received---\n",
      "b'\\xa4\\x00\\x00\\x00'\n",
      "\n",
      "电压int:  0.006256294442579424\n",
      "DAC: adc0_outD\n",
      "------------------------------ 发送指令: ------------------------------ \n",
      "模式：2,指令：adc0_outD\n",
      "字节码：55 aa 02 44\n",
      "\n",
      "------------------------------ 指令发送完成！------------------------------ \n",
      "\n",
      "---Received---\n",
      "b'\\xbd\\x00\\x00\\x00'\n",
      "\n",
      "电压int:  0.0072099978637043365\n",
      "DAC: adc1_outA\n",
      "------------------------------ 发送指令: ------------------------------ \n",
      "模式：2,指令：adc1_outA\n",
      "字节码：55 aa 02 45\n",
      "\n",
      "------------------------------ 指令发送完成！------------------------------ \n",
      "\n",
      "---Received---\n",
      "b'E\\x19\\x00\\x00'\n",
      "\n",
      "电压int:  0.24678029725028228\n",
      "DAC: adc1_outB\n",
      "------------------------------ 发送指令: ------------------------------ \n",
      "模式：2,指令：adc1_outB\n",
      "字节码：55 aa 02 46\n",
      "\n",
      "------------------------------ 指令发送完成！------------------------------ \n",
      "\n",
      "---Received---\n",
      "b'.\\x17\\x00\\x00'\n",
      "\n",
      "电压int:  0.22637104403820915\n",
      "DAC: adc1_outC\n",
      "------------------------------ 发送指令: ------------------------------ \n",
      "模式：2,指令：adc1_outC\n",
      "字节码：55 aa 02 47\n",
      "\n",
      "------------------------------ 指令发送完成！------------------------------ \n",
      "\n",
      "---Received---\n",
      "b'a\\x17\\x00\\x00'\n",
      "\n",
      "电压int:  0.228316599017304\n",
      "DAC: adc1_outD\n",
      "------------------------------ 发送指令: ------------------------------ \n",
      "模式：2,指令：adc1_outD\n",
      "字节码：55 aa 02 48\n",
      "\n",
      "------------------------------ 指令发送完成！------------------------------ \n",
      "\n",
      "---Received---\n",
      "b'\\xb8\\x18\\x00\\x00'\n",
      "\n",
      "电压int:  0.2414014099551378\n",
      "DAC: adc2_outA\n",
      "------------------------------ 发送指令: ------------------------------ \n",
      "模式：2,指令：adc2_outA\n",
      "字节码：55 aa 02 49\n",
      "\n",
      "------------------------------ 指令发送完成！------------------------------ \n",
      "\n",
      "---Received---\n",
      "b'\\xb5\\x14\\x00\\x00'\n",
      "\n",
      "电压int:  0.20222327341532642\n",
      "DAC: adc2_outB\n",
      "------------------------------ 发送指令: ------------------------------ \n",
      "模式：2,指令：adc2_outB\n",
      "字节码：55 aa 02 4a\n",
      "\n",
      "------------------------------ 指令发送完成！------------------------------ \n",
      "\n",
      "---Received---\n",
      "b'\\xf5\\x15\\x00\\x00'\n",
      "\n",
      "电压int:  0.21443067720572528\n",
      "DAC: adc2_outC\n",
      "------------------------------ 发送指令: ------------------------------ \n",
      "模式：2,指令：adc2_outC\n",
      "字节码：55 aa 02 4b\n",
      "\n",
      "------------------------------ 指令发送完成！------------------------------ \n",
      "\n",
      "---Received---\n",
      "b'.\\x00\\x00\\x00'\n",
      "\n",
      "电压int:  0.0017548142948698386\n",
      "DAC: adc2_outD\n",
      "------------------------------ 发送指令: ------------------------------ \n",
      "模式：2,指令：adc2_outD\n",
      "字节码：55 aa 02 4c\n",
      "\n",
      "------------------------------ 指令发送完成！------------------------------ \n",
      "\n",
      "---Received---\n",
      "b'\\xed\\x15\\x00\\x00'\n",
      "\n",
      "电压int:  0.2141254921109653\n",
      "DAC: adc3_outA\n",
      "------------------------------ 发送指令: ------------------------------ \n",
      "模式：2,指令：adc3_outA\n",
      "字节码：55 aa 02 4d\n",
      "\n",
      "------------------------------ 指令发送完成！------------------------------ \n",
      "\n",
      "---Received---\n",
      "b'\\xdc\\x15\\x00\\x00'\n",
      "\n",
      "电压int:  0.21347697378460037\n",
      "DAC: adc3_outB\n",
      "------------------------------ 发送指令: ------------------------------ \n",
      "模式：2,指令：adc3_outB\n",
      "字节码：55 aa 02 4e\n",
      "\n",
      "------------------------------ 指令发送完成！------------------------------ \n",
      "\n",
      "---Received---\n",
      "b'\\x7f\\xff\\xff\\xff'\n",
      "\n",
      "电压int:  -0.004921109653004547\n",
      "DAC: adc3_outC\n",
      "------------------------------ 发送指令: ------------------------------ \n",
      "模式：2,指令：adc3_outC\n",
      "字节码：55 aa 02 4f\n",
      "\n",
      "------------------------------ 指令发送完成！------------------------------ \n",
      "\n",
      "---Received---\n",
      "b'\\x10\\x00\\x00\\x00'\n",
      "\n",
      "电压int:  0.0006103701895199438\n",
      "DAC: adc3_outD\n",
      "------------------------------ 发送指令: ------------------------------ \n",
      "模式：2,指令：adc3_outD\n",
      "字节码：55 aa 02 50\n",
      "\n",
      "------------------------------ 指令发送完成！------------------------------ \n",
      "\n",
      "---Received---\n",
      "b'F\\x14\\x00\\x00'\n",
      "\n",
      "电压int:  0.19798883022553176\n"
     ]
    },
    {
     "data": {
      "image/png": "[encoded data removed]",
      "text/plain": [
       "<Figure size 640x480 with 1 Axes>"
      ]
     },
     "metadata": {},
     "output_type": "display_data"
    }
   ],
   "source": [
    "# pkts=Packet()\n",
    "# pkts.append_cmdlist([CMD(CIM_RESET,command_data=CmdData(1))],mode=1)                 # reset指令\n",
    "# ps.send_packets(pkts)\n",
    "\n",
    "# pkts=Packet()\n",
    "# pkts.append_cmdlist([\n",
    "#     CMD(FAST_COMMAND_1,command_data=CmdData(FAST_COMMAND1_CONF.cfg_row_read)),              # 然后开始读\n",
    "# ],mode=1)\n",
    "# ps.send_packets(pkts)\n",
    "\n",
    "tia16 = []\n",
    "for TIA_num in range(16):\n",
    "    adc_num, adc_channel = int(TIA_num/4),TIA_num%4\n",
    "\n",
    "    channel_map = {0: 'A', 1: 'B', 2: 'C', 3: 'D'}\n",
    "    pkts=Packet()\n",
    "    adc_out = CMD(dict(\n",
    "        command_addr = 65+TIA_num,\n",
    "        command_type = COMMAND_TYPE[1],\n",
    "        n_addr_bytes = N_ADDR_BYTES[0],\n",
    "        n_data_bytes = N_DATA_BYTES[0],\n",
    "        command_name = f\"adc{adc_num}_out{channel_map[adc_channel]}\",\n",
    "        command_data = CmdData(0),\n",
    "        command_description = \"从ADC对应通道读取数据\"\n",
    "    ))\n",
    "    pkts.append_cmdlist([adc_out],mode=2)\n",
    "    print(\"DAC:\",f\"adc{adc_num}_out{channel_map[adc_channel]}\")\n",
    "    # 发送指令\n",
    "    ps.send_packets(pkts)\n",
    "    # 接收信息\n",
    "    # 高16bit：0，低16bit：寄存器的16bit值\n",
    "    message = ps.receive_packet(f\"adc读取:{adc_out.command_name}\")\n",
    "\n",
    "    voltage_sample_hex = message.hex()[2:4] + message.hex()[0:2]\n",
    "    # print(\"电压hex: \",voltage_sample_hex)\n",
    "    voltage_sample_int = adc_to_voltage(voltage_sample_hex)\n",
    "    tia16.append(voltage_sample_int)\n",
    "    print(\"电压int: \",voltage_sample_int)\n",
    "\n",
    "plt.figure()\n",
    "plt.plot( tia16, marker='o', color='b', linestyle='-', linewidth=2, markersize=6,label = \"23\")\n",
    "plt.legend()\n",
    "plt.show()"
   ]
  },
  {
   "cell_type": "code",
   "execution_count": null,
   "metadata": {},
   "outputs": [],
   "source": [
    "# 31，0.319\n",
    "# 33，0.3185\n",
    "# 35，0.318"
   ]
  },
  {
   "cell_type": "code",
   "execution_count": 19,
   "metadata": {},
   "outputs": [
    {
     "name": "stdout",
     "output_type": "stream",
     "text": [
      "53.88201438848921\n",
      "18559.068575090794\n"
     ]
    }
   ],
   "source": [
    "res_meas = 0.1 * (200) * 1 / voltage_sample_int\n",
    "print(res_meas)\n",
    "print(1/res_meas*1e6)"
   ]
  },
  {
   "cell_type": "code",
   "execution_count": 40,
   "metadata": {},
   "outputs": [
    {
     "name": "stdout",
     "output_type": "stream",
     "text": [
      "87681.88062885137\n"
     ]
    }
   ],
   "source": [
    "res_meas = 0.1 * (10e3+200) * 6.0241 / voltage_sample_int\n",
    "print(res_meas)\n",
    "# 0.11,"
   ]
  },
  {
   "cell_type": "code",
   "execution_count": 8,
   "metadata": {},
   "outputs": [],
   "source": [
    "def adc_to_voltage(data, vref=1.25):\n",
    "    # 将十六进制字符串转换为整数\n",
    "    data = int(data, 16)\n",
    "    # 确保数据在16位范围内\n",
    "    data &= 0xFFFF\n",
    "    # 将16位有符号数转换为Python整数\n",
    "    if data & 0x8000:  # 若符号位为1，则表示负数\n",
    "        data -= 0x10000\n",
    "\n",
    "    # 将数据转换为电压\n",
    "    voltage = (data / (2**15-1)) * vref  # 32767 是0x7FFF对应的正最大值\n",
    "    return voltage"
   ]
  },
  {
   "cell_type": "code",
   "execution_count": 95,
   "metadata": {},
   "outputs": [],
   "source": [
    "pkts=Packet()\n",
    "pkts.append_cmdlist([\n",
    "    CMD(CIM_RESET,command_data=CmdData(1)),                 # reset指令\n",
    "],mode=1)\n",
    "# 发送指令\n",
    "ps.send_packets(pkts)"
   ]
  },
  {
   "cell_type": "code",
   "execution_count": 96,
   "metadata": {},
   "outputs": [
    {
     "name": "stdout",
     "output_type": "stream",
     "text": [
      "---Received---\n",
      "b'i\\x00\\x00\\x00'\n",
      "\n",
      "电压hex:  0069\n",
      "电压int:  0.004005554368724631\n"
     ]
    }
   ],
   "source": [
    "\n",
    "pkts=Packet()\n",
    "pkts.append_cmdlist([\n",
    "    CMD(FAST_COMMAND_1,command_data=CmdData(FAST_COMMAND1_CONF.cfg_row_read)),              # 然后开始读\n",
    "],mode=1)\n",
    "chip.ps.send_packets(pkts)\n",
    "\n",
    "TIA_num = adc.TIA_index_map(colnum,1,True)\n",
    "adc_num, adc_channel = int(TIA_num/4),TIA_num%4\n",
    "\n",
    "channel_map = {0: 'A', 1: 'B', 2: 'C', 3: 'D'}\n",
    "pkts=Packet()\n",
    "adc_out = CMD(dict(\n",
    "    command_addr = 65+TIA_num,\n",
    "    command_type = COMMAND_TYPE[1],\n",
    "    n_addr_bytes = N_ADDR_BYTES[0],\n",
    "    n_data_bytes = N_DATA_BYTES[0],\n",
    "    command_name = f\"adc{adc_num}_out{channel_map[adc_channel]}\",\n",
    "    command_data = CmdData(0),\n",
    "    command_description = \"从ADC对应通道读取数据\"\n",
    "))\n",
    "pkts.append_cmdlist([adc_out],mode=2)\n",
    "\n",
    "# 发送指令\n",
    "ps.send_packets(pkts)\n",
    "# 接收信息\n",
    "# 高16bit：0，低16bit：寄存器的16bit值\n",
    "message = ps.receive_packet(f\"adc读取:{adc_out.command_name}\")\n",
    "voltage_sample_hex = message.hex()[2:4] + message.hex()[0:2]\n",
    "print(\"电压hex: \",voltage_sample_hex)\n",
    "voltage_sample_int = adc_to_voltage(voltage_sample_hex)\n",
    "print(\"电压int: \",voltage_sample_int)"
   ]
  },
  {
   "cell_type": "code",
   "execution_count": 45,
   "metadata": {},
   "outputs": [
    {
     "name": "stdout",
     "output_type": "stream",
     "text": [
      "读通道 0\n",
      "---Received---\n",
      "b'\\x95\\x00\\x00\\x00'\n",
      "\n",
      "电压hex:  0095\n",
      "电压int:  0.005684072389904477\n",
      "读通道 1\n",
      "---Received---\n",
      "b'\\xf9\\xe4\\xff\\xff'\n",
      "\n",
      "电压hex:  e4f9\n",
      "电压int:  -0.2639469588305307\n",
      "读通道 2\n",
      "---Received---\n",
      "b'\\xf5\\x06\\x00\\x00'\n",
      "\n",
      "电压hex:  06f5\n",
      "电压int:  0.06794183172093875\n",
      "读通道 3\n",
      "---Received---\n",
      "b'f,\\x00\\x00'\n",
      "\n",
      "电压hex:  2c66\n",
      "电压int:  0.4335917233802301\n",
      "读通道 4\n",
      "---Received---\n",
      "b'\\x9e\\x11\\x00\\x00'\n",
      "\n",
      "电压hex:  119e\n",
      "电压int:  0.17204809717093417\n",
      "读通道 5\n",
      "---Received---\n",
      "b'\\xb4\\xf3\\xff\\xff'\n",
      "\n",
      "电压hex:  f3b4\n",
      "电压int:  -0.12009033478804895\n",
      "读通道 6\n",
      "---Received---\n",
      "b'\\x88\\x08\\x00\\x00'\n",
      "\n",
      "电压hex:  0888\n",
      "电压int:  0.08331553086947234\n",
      "读通道 7\n",
      "---Received---\n",
      "b'\\x0b\\xfd\\xff\\xff'\n",
      "\n",
      "电压hex:  fd0b\n",
      "电压int:  -0.02887813959166234\n",
      "读通道 8\n",
      "---Received---\n",
      "b'Y\\xfc\\xff\\xff'\n",
      "\n",
      "电压hex:  fc59\n",
      "电压int:  -0.03566850795007172\n",
      "读通道 9\n",
      "---Received---\n",
      "b'\\xfd\\xf5\\xff\\xff'\n",
      "\n",
      "电压hex:  f5fd\n",
      "电压int:  -0.097773674733726\n",
      "读通道 10\n",
      "---Received---\n",
      "b'\\n\\xfc\\xff\\xff'\n",
      "\n",
      "电压hex:  fc0a\n",
      "电压int:  -0.038682210760826445\n",
      "读通道 11\n",
      "---Received---\n",
      "b'\\x16\\x05\\x00\\x00'\n",
      "\n",
      "电压hex:  0516\n",
      "电压int:  0.049668874172185434\n",
      "读通道 12\n",
      "---Received---\n",
      "b'\\xd1\\x04\\x00\\x00'\n",
      "\n",
      "电压hex:  04d1\n",
      "电压int:  0.04703665272988067\n",
      "读通道 13\n",
      "---Received---\n",
      "b'\\xef\\xf2\\xff\\xff'\n",
      "\n",
      "电压hex:  f2ef\n",
      "电压int:  -0.12760551774651327\n",
      "读通道 14\n",
      "---Received---\n",
      "b'2\\xf8\\xff\\xff'\n",
      "\n",
      "电压hex:  f832\n",
      "电压int:  -0.07621997741630299\n",
      "读通道 15\n",
      "---Received---\n",
      "b'\\x12\\xff\\xff\\xff'\n",
      "\n",
      "电压hex:  ff12\n",
      "电压int:  -0.009079256569109165\n"
     ]
    }
   ],
   "source": [
    "def adc_to_voltage(data, vref=1.25):\n",
    "    # 将十六进制字符串转换为整数\n",
    "    data = int(data, 16)\n",
    "    # 确保数据在16位范围内\n",
    "    data &= 0xFFFF\n",
    "    # 将16位有符号数转换为Python整数\n",
    "    if data & 0x8000:  # 若符号位为1，则表示负数\n",
    "        data -= 0x10000\n",
    "\n",
    "    # 将数据转换为电压\n",
    "    voltage = (data / (2**15-1)) * vref  # 32767 是0x7FFF对应的正最大值\n",
    "    return voltage\n",
    "\n",
    "for i in range(16):\n",
    "    print(\"读通道\",i)\n",
    "    TIA_num = i\n",
    "    adc_num, adc_channel = int(TIA_num/4),TIA_num%4\n",
    "\n",
    "    channel_map = {0: 'A', 1: 'B', 2: 'C', 3: 'D'}\n",
    "    pkts=Packet()\n",
    "    adc_out = CMD(dict(\n",
    "        command_addr = 65+TIA_num,\n",
    "        command_type = COMMAND_TYPE[1],\n",
    "        n_addr_bytes = N_ADDR_BYTES[0],\n",
    "        n_data_bytes = N_DATA_BYTES[0],\n",
    "        command_name = f\"adc{adc_num}_out{channel_map[adc_channel]}\",\n",
    "        command_data = CmdData(0),\n",
    "        command_description = \"从ADC对应通道读取数据\"\n",
    "    ))\n",
    "    pkts.append_cmdlist([adc_out],mode=2)\n",
    "\n",
    "    # 发送指令\n",
    "    ps.send_packets(pkts)\n",
    "    # 接收信息\n",
    "    # 高16bit：0，低16bit：寄存器的16bit值\n",
    "    message = ps.receive_packet(f\"adc读取:{adc_out.command_name}\")\n",
    "    voltage_sample_hex = message.hex()[2:4] + message.hex()[0:2]\n",
    "    print(\"电压hex: \",voltage_sample_hex)\n",
    "    voltage_sample_int = adc_to_voltage(voltage_sample_hex)\n",
    "    print(\"电压int: \",voltage_sample_int)"
   ]
  },
  {
   "cell_type": "code",
   "execution_count": 11,
   "metadata": {},
   "outputs": [],
   "source": [
    "ps.set_debug(True)\n",
    "\n",
    "# adc.set_sample_times(32)\n",
    "# dac.set_voltage(5,0,0)\n",
    "# chip.set_pulse_width(pulsewidth=255)\n",
    "# chip.set_pulse_width(pulsewidth=1)"
   ]
  },
  {
   "cell_type": "code",
   "execution_count": null,
   "metadata": {},
   "outputs": [],
   "source": []
  }
 ],
 "metadata": {
  "kernelspec": {
   "display_name": "Python 3",
   "language": "python",
   "name": "python3"
  },
  "language_info": {
   "codemirror_mode": {
    "name": "ipython",
    "version": 3
   },
   "file_extension": ".py",
   "mimetype": "text/x-python",
   "name": "python",
   "nbconvert_exporter": "python",
   "pygments_lexer": "ipython3",
   "version": "3.12.7"
  }
 },
 "nbformat": 4,
 "nbformat_minor": 2
}
