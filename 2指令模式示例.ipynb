{
 "cells": [
  {
   "cell_type": "code",
   "execution_count": 1,
   "metadata": {},
   "outputs": [],
   "source": [
    "import time\n",
    "import json\n",
    "import numpy as np\n",
    "import matplotlib.pyplot as plt\n",
    "\n",
    "from pc import PS\n",
    "from modules import ADC,DAC,CHIP\n",
    "from cimCommand import CMD,CmdData,Packet\n",
    "from cimCommand.singleCmdInfo import *\n",
    "\n",
    "from util import plot_v_cond"
   ]
  },
  {
   "cell_type": "code",
   "execution_count": 2,
   "metadata": {},
   "outputs": [
    {
     "name": "stdout",
     "output_type": "stream",
     "text": [
      "Connected to 192.168.1.10:7\n",
      "local ip: 192.168.1.15 local port: 59912\n"
     ]
    }
   ],
   "source": [
    "chip=CHIP(PS(host=\"192.168.1.10\", port = 7, debug=0),init=True)\n",
    "chip.set_device_cfg(deviceType=0)"
   ]
  },
  {
   "cell_type": "markdown",
   "metadata": {},
   "source": [
    "# 1. 读操作"
   ]
  },
  {
   "cell_type": "markdown",
   "metadata": {},
   "source": [
    "## 1.1 第一种读方式\n",
    "- 需要自己设置读写模式\n",
    "- 需要设置tia的增益\n",
    "- 没有针对行列bank切换时的优化\n",
    "- check_tia=True表示会检查16路tia(16路并行读), False表示不会检查\n",
    "- sum=True表示是否可以多行相加, False表示每行单独读\n",
    "- **不建议使用**(单点读会更快)"
   ]
  },
  {
   "cell_type": "code",
   "execution_count": null,
   "metadata": {},
   "outputs": [],
   "source": [
    "chip.set_op_mode2(read=True,from_row=True)\n",
    "chip.set_tia_gain(1)\n",
    "voltage = chip.read2(row_index=[i for i in range(256)],col_index=[i for i in range(256)],read_voltage=0.1,tg=5,check_tia=True,sum=False)"
   ]
  },
  {
   "cell_type": "markdown",
   "metadata": {},
   "source": [
    "## 1.2 第二种读方式\n",
    "- 有针对行列bank切换时的优化\n",
    "- 16路并行读\n",
    "- 但是只能读任意行选和列选交叉的块\n",
    "- out_type控制返回值, 0返回电压, 1返回电导(uS)，2返回电阻(kΩ)\n",
    "- 没有求和功能"
   ]
  },
  {
   "cell_type": "code",
   "execution_count": null,
   "metadata": {},
   "outputs": [],
   "source": [
    "voltage = chip.read_crossbar2(row_index=[i for i in range(256)],col_index=[i for i in range(256)]\n",
    "                              ,read_voltage=0.1,tg=5,gain=1,from_row=True,out_type=0)\n",
    "cond = chip.voltage_to_cond(voltage=voltage)\n",
    "resistance = chip.voltage_to_resistance(voltage=voltage)"
   ]
  },
  {
   "cell_type": "markdown",
   "metadata": {},
   "source": [
    "## 1.3 第三种读方式\n",
    "- 逐点读,crossbar中值大于0即是需要读的点\n",
    "- 针对行列bank切换进行优化过\n",
    "- 相对16路并行读，会慢一点, 但是相对会更准确"
   ]
  },
  {
   "cell_type": "code",
   "execution_count": null,
   "metadata": {},
   "outputs": [],
   "source": [
    "voltage = chip.read_point2(crossbar=np.ones((256,256)),read_voltage=0.1,tg=5,gain=1,from_row=True,out_type=0)\n",
    "cond = chip.voltage_to_cond(voltage=voltage)\n",
    "resistance = chip.voltage_to_resistance(voltage=voltage)"
   ]
  },
  {
   "cell_type": "markdown",
   "metadata": {},
   "source": [
    "# 2. 写操作"
   ]
  },
  {
   "cell_type": "markdown",
   "metadata": {},
   "source": [
    "## 2.1 第一种写方式\n",
    "- 需要自己设置读写模式\n",
    "- 需要自己设置脉冲宽度\n",
    "- 行列交叉的块写\n",
    "- 没有对行列选通的bank进行优化"
   ]
  },
  {
   "cell_type": "code",
   "execution_count": null,
   "metadata": {},
   "outputs": [],
   "source": [
    "# set操作是从行给电压, 故from_row=True\n",
    "chip.set_op_mode2(read=False,from_row=True)\n",
    "chip.set_pulse_width(50e-6)\n",
    "chip.write2(row_index=[i for i in range(256)],col_index=[i for i in range(256)],write_voltage=0,tg=0)\n",
    "\n",
    "# reset操作是从列给电压, 故from_row=False\n",
    "chip.set_op_mode2(read=False,from_row=False)\n",
    "chip.set_pulse_width(50e-6)\n",
    "chip.write2(row_index=[i for i in range(256)],col_index=[i for i in range(256)],write_voltage=0,tg=0)"
   ]
  },
  {
   "cell_type": "markdown",
   "metadata": {},
   "source": [
    "## 2.2 第二种写方式(块)\n",
    "- 有对行列bank的切换进行优化过\n",
    "- 只能写行列交叉的块\n",
    "-  set_device=True表示对选中的器件set, False表示对选中的器件进行reset"
   ]
  },
  {
   "cell_type": "code",
   "execution_count": null,
   "metadata": {},
   "outputs": [],
   "source": [
    "chip.write_crossbar2(row_index=[i for i in range(256)],col_index=[i for i in range(256)],write_voltage=0,tg=0,pulse_width=50e-6,set_device=True)"
   ]
  },
  {
   "cell_type": "markdown",
   "metadata": {},
   "source": [
    "# 2.3 第三种写方式(逐点)\n",
    "- 针对行列bank切换优化过\n",
    "- crossbar中>0表示对该器件写\n",
    "-  set_device=True表示对选中的器件set, False表示对选中的器件进行reset"
   ]
  },
  {
   "cell_type": "code",
   "execution_count": null,
   "metadata": {},
   "outputs": [],
   "source": [
    "condition_reset = np.ones((256,256))\n",
    "condition_set = np.ones((256,256))\n",
    "chip.write_point2(crossbar=condition_reset,write_voltage=2,tg=5,pulse_width=1000e-6,set_device=False)\n",
    "chip.write_point2(crossbar=condition_set,write_voltage=3,tg=2.5,pulse_width=1000e-6,set_device=True)"
   ]
  },
  {
   "cell_type": "markdown",
   "metadata": {},
   "source": [
    "# 其他"
   ]
  },
  {
   "cell_type": "code",
   "execution_count": 15,
   "metadata": {},
   "outputs": [],
   "source": [
    "def set_device(row,col,write_voltage,tg,pulse_width):\n",
    "    chip.set_op_mode2(read=False,from_row=True,clearv=False)\n",
    "    chip.set_pulse_width(pulse_width)\n",
    "    chip.write2(row_index=[row],col_index=[col],write_voltage=write_voltage,tg=tg)\n",
    "\n",
    "def reset_device(row,col,write_voltage,tg,pulse_width):\n",
    "    chip.set_op_mode2(read=False,from_row=False,clearv=False)\n",
    "    chip.set_pulse_width(pulse_width)\n",
    "    chip.write2(row_index=[row],col_index=[col],write_voltage=write_voltage,tg=tg)\n",
    "\n",
    "def read_device(row,col,read_voltage,tg,gain):\n",
    "    chip.set_op_mode2(read=True,from_row=True,clearv=False)\n",
    "    chip.set_tia_gain(gain)\n",
    "    vres = chip.read2(row_index=[row],col_index=[col],read_voltage=read_voltage,tg=tg,check_tia=True,sum=False)\n",
    "    return chip.voltage_to_cond(vres[0,0])"
   ]
  }
 ],
 "metadata": {
  "kernelspec": {
   "display_name": "base",
   "language": "python",
   "name": "python3"
  },
  "language_info": {
   "codemirror_mode": {
    "name": "ipython",
    "version": 3
   },
   "file_extension": ".py",
   "mimetype": "text/x-python",
   "name": "python",
   "nbconvert_exporter": "python",
   "pygments_lexer": "ipython3",
   "version": "3.12.3"
  }
 },
 "nbformat": 4,
 "nbformat_minor": 2
}
