{
 "cells": [
  {
   "cell_type": "markdown",
   "metadata": {},
   "source": [
    "# 1. 芯片初始化操作"
   ]
  },
  {
   "cell_type": "code",
   "execution_count": 39,
   "metadata": {},
   "outputs": [],
   "source": [
    "import time\n",
    "import json\n",
    "import numpy as np\n",
    "import matplotlib.pyplot as plt\n",
    "\n",
    "from pc import PS\n",
    "from modules import ADC,DAC,CHIP\n",
    "from cimCommand import CMD,CmdData,Packet\n",
    "from cimCommand.singleCmdInfo import *\n",
    "\n",
    "from util import plot_v_cond"
   ]
  },
  {
   "cell_type": "code",
   "execution_count": 40,
   "metadata": {},
   "outputs": [
    {
     "name": "stdout",
     "output_type": "stream",
     "text": [
      "Connected to 192.168.1.10:7\n",
      "local ip: 192.168.1.15 local port: 61659\n"
     ]
    }
   ],
   "source": [
    "chip=CHIP(PS(host=\"192.168.1.10\", port = 7, delay=0.3, debug=False))\n",
    "chip.set_device_cfg(deviceType=0)"
   ]
  },
  {
   "cell_type": "code",
   "execution_count": 114,
   "metadata": {},
   "outputs": [],
   "source": [
    "# chip.close()"
   ]
  },
  {
   "cell_type": "markdown",
   "metadata": {},
   "source": [
    "# 2. 读器件"
   ]
  },
  {
   "cell_type": "markdown",
   "metadata": {},
   "source": [
    "## 2.1 读初始化操作"
   ]
  },
  {
   "cell_type": "code",
   "execution_count": 85,
   "metadata": {},
   "outputs": [],
   "source": [
    "chip.set_op_mode(read=True,row=True)\n",
    "chip.set_dac_read_V(0.1)\n",
    "chip.set_tia_gain(3)\n",
    "print(chip.get_setting_info())"
   ]
  },
  {
   "cell_type": "markdown",
   "metadata": {},
   "source": [
    "## 2.2 读一个器件"
   ]
  },
  {
   "cell_type": "code",
   "execution_count": null,
   "metadata": {},
   "outputs": [],
   "source": [
    "cond,voltage = chip.read_one(row_index=0,col_index=0)\n",
    "print(f\"电导:{cond}us\\n电压:{voltage}v\")"
   ]
  },
  {
   "cell_type": "markdown",
   "metadata": {},
   "source": [
    "## 2.3 读多行多列"
   ]
  },
  {
   "cell_type": "code",
   "execution_count": null,
   "metadata": {},
   "outputs": [],
   "source": [
    "cond,voltage = chip.read(row_index=[0,1,2,3],col_index=[3,4,6,7],debug=True)\n",
    "print(f\"电导:{cond}us\\n电压:{voltage}v\")"
   ]
  },
  {
   "cell_type": "markdown",
   "metadata": {},
   "source": [
    "## 2.4 其他读操作"
   ]
  },
  {
   "cell_type": "markdown",
   "metadata": {},
   "source": [
    "### 2.4.1 自定义读配置"
   ]
  },
  {
   "cell_type": "code",
   "execution_count": null,
   "metadata": {},
   "outputs": [],
   "source": [
    "chip.set_op_mode(read=True,row=True)\n",
    "chip.set_dac_read_V(0.1)\n",
    "chip.set_tia_gain(3)\n",
    "print(chip.get_setting_info())\n",
    "\n",
    "# 先需要reset所有的latch\n",
    "chip.set_cim_reset()\n",
    "\n",
    "# 配置行bank\n",
    "chip.set_latch([2,4,253,255],row=True,value=None)\n",
    "chip.set_bank([i for i in range(8)],row=True,value=0xFFFF_FFFF)\n",
    "\n",
    "# 配置列bank\n",
    "chip.set_latch([[2,4,1,3]],row=False,value=None)\n",
    "chip.set_bank([i for i in range(8)],row=False,value=0xFFFF_FFFF)\n",
    "\n",
    "# 产生读脉冲，并读出tia值\n",
    "chip.generate_read_pulse()\n",
    "cond,voltage = chip.get_tia_out([k for k in range(16)])\n",
    "\n",
    "plot_v_cond(v= voltage,cond= cond)"
   ]
  },
  {
   "cell_type": "markdown",
   "metadata": {},
   "source": [
    "# 3. 写器件"
   ]
  },
  {
   "cell_type": "markdown",
   "metadata": {},
   "source": [
    "## 3.1 写初始化"
   ]
  },
  {
   "cell_type": "code",
   "execution_count": null,
   "metadata": {},
   "outputs": [],
   "source": [
    "chip.set_op_mode(read=False,row=True)\n",
    "chip.set_dac_write_V(0.1)\n",
    "print(chip.get_setting_info())"
   ]
  },
  {
   "cell_type": "markdown",
   "metadata": {},
   "source": [
    "## 3.2 写一个器件"
   ]
  },
  {
   "cell_type": "code",
   "execution_count": null,
   "metadata": {},
   "outputs": [],
   "source": [
    "chip.write_one(row_index=0,col_index=0,pulse_width=0.1)"
   ]
  },
  {
   "cell_type": "markdown",
   "metadata": {},
   "source": [
    "## 3.3 其他写操作"
   ]
  },
  {
   "cell_type": "markdown",
   "metadata": {},
   "source": [
    "### 3.3.1 自定义配置"
   ]
  },
  {
   "cell_type": "code",
   "execution_count": null,
   "metadata": {},
   "outputs": [],
   "source": [
    "chip.set_op_mode(read=False,row=True)\n",
    "chip.set_dac_write_V(0.1)\n",
    "print(chip.get_setting_info())\n",
    "\n",
    "# 先需要reset所有的latch\n",
    "chip.set_cim_reset()\n",
    "\n",
    "# 配置行bank\n",
    "chip.set_latch([2,4,253,255],row=True,value=None)\n",
    "chip.set_bank([i for i in range(8)],row=True,value=0xFFFF_FFFF)\n",
    "\n",
    "# 配置列bank\n",
    "chip.set_latch([[2,4,1,3]],row=False,value=None)\n",
    "chip.set_bank([i for i in range(8)],row=False,value=0xFFFF_FFFF)\n",
    "\n",
    "# 产生写配置\n",
    "chip.generate_write_pulse()"
   ]
  },
  {
   "cell_type": "markdown",
   "metadata": {},
   "source": [
    "# 测试"
   ]
  },
  {
   "cell_type": "markdown",
   "metadata": {},
   "source": []
  }
 ],
 "metadata": {
  "kernelspec": {
   "display_name": "Python 3",
   "language": "python",
   "name": "python3"
  },
  "language_info": {
   "codemirror_mode": {
    "name": "ipython",
    "version": 3
   },
   "file_extension": ".py",
   "mimetype": "text/x-python",
   "name": "python",
   "nbconvert_exporter": "python",
   "pygments_lexer": "ipython3",
   "version": "3.12.7"
  }
 },
 "nbformat": 4,
 "nbformat_minor": 2
}
