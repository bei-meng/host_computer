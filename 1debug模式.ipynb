{
 "cells": [
  {
   "cell_type": "code",
   "execution_count": 1,
   "metadata": {},
   "outputs": [],
   "source": [
    "import time\n",
    "import json\n",
    "import numpy as np\n",
    "import matplotlib.pyplot as plt\n",
    "\n",
    "from pc import PS\n",
    "from modules import ADC,DAC,CHIP\n",
    "from cimCommand import CMD,CmdData,Packet\n",
    "from cimCommand.singleCmdInfo import *\n",
    "\n",
    "from util import plot_v_cond"
   ]
  },
  {
   "cell_type": "code",
   "execution_count": 2,
   "metadata": {},
   "outputs": [
    {
     "name": "stdout",
     "output_type": "stream",
     "text": [
      "Connected to 192.168.1.10:7\n",
      "local ip: 192.168.1.15 local port: 59912\n"
     ]
    }
   ],
   "source": [
    "chip=CHIP(PS(host=\"192.168.1.10\", port = 7, debug=0),init=True)\n",
    "chip.set_device_cfg(deviceType=0)"
   ]
  },
  {
   "cell_type": "code",
   "execution_count": 15,
   "metadata": {},
   "outputs": [],
   "source": [
    "def set_device(row,col,write_voltage,tg,pulse_width):\n",
    "    chip.set_op_mode2(read=False,from_row=True,clearv=False)\n",
    "    chip.set_pulse_width(pulse_width)\n",
    "    chip.write2(row_index=[row],col_index=[col],write_voltage=write_voltage,tg=tg)\n",
    "\n",
    "def reset_device(row,col,write_voltage,tg,pulse_width):\n",
    "    chip.set_op_mode2(read=False,from_row=False,clearv=False)\n",
    "    chip.set_pulse_width(pulse_width)\n",
    "    chip.write2(row_index=[row],col_index=[col],write_voltage=write_voltage,tg=tg)\n",
    "\n",
    "def read_device(row,col,read_voltage,tg,gain):\n",
    "    chip.set_op_mode2(read=True,from_row=True,clearv=False)\n",
    "    chip.set_tia_gain(gain)\n",
    "    vres = chip.read2(row_index=[row],col_index=[col],read_voltage=read_voltage,tg=tg,check_tia=True,sum=False)\n",
    "    return chip.voltage_to_cond(vres[0,0])"
   ]
  },
  {
   "cell_type": "code",
   "execution_count": 68,
   "metadata": {},
   "outputs": [
    {
     "name": "stdout",
     "output_type": "stream",
     "text": [
      "操作模式: read\t器件: ReRAM\t读电压: 0.1v\t从行\\列给电压: 行\tTIA增益: 1\n"
     ]
    }
   ],
   "source": [
    "chip.set_op_mode(read=True,from_row=True)\n",
    "chip.set_dac_read_V(0.1,tg=5)\n",
    "chip.set_tia_gain(1)\n",
    "print(chip.get_setting_info())"
   ]
  },
  {
   "cell_type": "code",
   "execution_count": 80,
   "metadata": {},
   "outputs": [
    {
     "name": "stdout",
     "output_type": "stream",
     "text": [
      "108.28723627586528\n"
     ]
    }
   ],
   "source": [
    "row ,col = 100,100\n",
    "reset_device(row,col,write_voltage=2,tg=5,pulse_width=100e-6)\n",
    "print(read_device(row,col,read_voltage=0.1,tg=5,gain=1))"
   ]
  },
  {
   "cell_type": "code",
   "execution_count": 1,
   "metadata": {},
   "outputs": [
    {
     "ename": "NameError",
     "evalue": "name 'set_device' is not defined",
     "output_type": "error",
     "traceback": [
      "\u001b[1;31m---------------------------------------------------------------------------\u001b[0m",
      "\u001b[1;31mNameError\u001b[0m                                 Traceback (most recent call last)",
      "Cell \u001b[1;32mIn[1], line 1\u001b[0m\n\u001b[1;32m----> 1\u001b[0m set_device(row,col,write_voltage\u001b[38;5;241m=\u001b[39m\u001b[38;5;241m3\u001b[39m,tg\u001b[38;5;241m=\u001b[39m\u001b[38;5;241m2\u001b[39m,pulse_width\u001b[38;5;241m=\u001b[39m\u001b[38;5;241m5000e-6\u001b[39m)\n\u001b[0;32m      2\u001b[0m \u001b[38;5;28mprint\u001b[39m(read_device(row,col,read_voltage\u001b[38;5;241m=\u001b[39m\u001b[38;5;241m0.1\u001b[39m,tg\u001b[38;5;241m=\u001b[39m\u001b[38;5;241m5\u001b[39m,gain\u001b[38;5;241m=\u001b[39m\u001b[38;5;241m1\u001b[39m))\n",
      "\u001b[1;31mNameError\u001b[0m: name 'set_device' is not defined"
     ]
    }
   ],
   "source": [
    "set_device(row,col,write_voltage=3,tg=2,pulse_width=5000e-6)\n",
    "print(read_device(row,col,read_voltage=0.1,tg=5,gain=1))"
   ]
  },
  {
   "cell_type": "code",
   "execution_count": 88,
   "metadata": {},
   "outputs": [
    {
     "name": "stdout",
     "output_type": "stream",
     "text": [
      "电压:[0.14164403]v [1175.64476109]\n"
     ]
    }
   ],
   "source": [
    "voltage = chip.read(row_index=[row],col_index=[col],row_value=None,col_value=None,check_tia=True)\n",
    "print(f\"电压:{voltage}v\",chip.voltage_to_cond(voltage=voltage,read_voltage=0.1))"
   ]
  }
 ],
 "metadata": {
  "kernelspec": {
   "display_name": "base",
   "language": "python",
   "name": "python3"
  },
  "language_info": {
   "codemirror_mode": {
    "name": "ipython",
    "version": 3
   },
   "file_extension": ".py",
   "mimetype": "text/x-python",
   "name": "python",
   "nbconvert_exporter": "python",
   "pygments_lexer": "ipython3",
   "version": "3.12.3"
  }
 },
 "nbformat": 4,
 "nbformat_minor": 2
}
