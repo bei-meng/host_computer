{
 "cells": [
  {
   "cell_type": "code",
   "execution_count": 1,
   "id": "393adba9",
   "metadata": {},
   "outputs": [],
   "source": [
    "from pc import PS\n",
    "from modules import ADC,DAC,CHIP\n",
    "from cimCommand import CMD,CmdData,Packet\n",
    "from cimCommand.singleCmdInfo import *\n",
    "import matplotlib.pyplot as plt\n",
    "import numpy as np\n",
    "\n",
    "import time\n",
    "import json"
   ]
  },
  {
   "cell_type": "code",
   "execution_count": 2,
   "id": "89f8fc5a",
   "metadata": {},
   "outputs": [
    {
     "name": "stdout",
     "output_type": "stream",
     "text": [
      "Failed to connect: [WinError 10049] 在其上下文中，该请求的地址无效。\n",
      "模式: 1\n",
      "\t帧头:               \t字节码: 55 aa 01\n",
      "\t指令: flt           \t字节码: 09 00 00 0f ff\n",
      "模式: 1\n",
      "\t帧头:               \t字节码: 55 aa 01\n",
      "\t指令: fast_command_1\t字节码: 01 00 00 00 80\n",
      "模式: 1\n",
      "\t帧头:               \t字节码: 55 aa 01\n",
      "\t指令: fast_command_1\t字节码: 01 00 00 01 00\n",
      "模式: 1\n",
      "\t帧头:               \t字节码: 55 aa 01\n",
      "\t指令: cim_reset     \t字节码: 0b 00 00 00 01\n",
      "模式: 1\n",
      "\t帧头:               \t字节码: 55 aa 01\n",
      "\t指令: cim_ss        \t字节码: 0d 00 00 00 01\n",
      "模式: 1\n",
      "\t帧头:               \t字节码: 55 aa 01\n",
      "\t指令: ser_para_sel  \t字节码: 0e 00 00 00 01\n",
      "\n",
      "指令完整字节码:  55aa010900000fff\n",
      "指令完整字节码:  55aa010100000080\n",
      "指令完整字节码:  55aa010100000100\n",
      "指令完整字节码:  55aa010b00000001\n",
      "指令完整字节码:  55aa010d00000001\n",
      "指令完整字节码:  55aa010e00000001\n",
      "Failed to send message:\n",
      "模式: 1\n",
      "\t帧头:               \t字节码: 55 aa 01\n",
      "\t指令: adc0_in       \t字节码: 03 00 00 a2 00\n",
      "模式: 1\n",
      "\t帧头:               \t字节码: 55 aa 01\n",
      "\t指令: fast_command_1\t字节码: 01 00 00 00 02\n",
      "模式: 1\n",
      "\t帧头:               \t字节码: 55 aa 01\n",
      "\t指令: adc1_in       \t字节码: 04 00 00 a2 00\n",
      "模式: 1\n",
      "\t帧头:               \t字节码: 55 aa 01\n",
      "\t指令: fast_command_1\t字节码: 01 00 00 00 04\n",
      "模式: 1\n",
      "\t帧头:               \t字节码: 55 aa 01\n",
      "\t指令: adc2_in       \t字节码: 05 00 00 a2 00\n",
      "模式: 1\n",
      "\t帧头:               \t字节码: 55 aa 01\n",
      "\t指令: fast_command_1\t字节码: 01 00 00 00 08\n",
      "模式: 1\n",
      "\t帧头:               \t字节码: 55 aa 01\n",
      "\t指令: adc3_in       \t字节码: 06 00 00 a2 00\n",
      "模式: 1\n",
      "\t帧头:               \t字节码: 55 aa 01\n",
      "\t指令: fast_command_1\t字节码: 01 00 00 00 10\n",
      "\n",
      "指令完整字节码:  55aa01030000a200\n",
      "指令完整字节码:  55aa010100000002\n",
      "指令完整字节码:  55aa01040000a200\n",
      "指令完整字节码:  55aa010100000004\n",
      "指令完整字节码:  55aa01050000a200\n",
      "指令完整字节码:  55aa010100000008\n",
      "指令完整字节码:  55aa01060000a200\n",
      "指令完整字节码:  55aa010100000010\n",
      "Failed to send message:\n",
      "模式: 1\n",
      "\t帧头:               \t字节码: 55 aa 01\n",
      "\t指令: dac_in        \t字节码: 02 00 02 00 00\n",
      "模式: 1\n",
      "\t帧头:               \t字节码: 55 aa 01\n",
      "\t指令: fast_command_1\t字节码: 01 00 00 00 01\n",
      "模式: 1\n",
      "\t帧头:               \t字节码: 55 aa 01\n",
      "\t指令: dac_in        \t字节码: 02 00 04 00 ff\n",
      "模式: 1\n",
      "\t帧头:               \t字节码: 55 aa 01\n",
      "\t指令: fast_command_1\t字节码: 01 00 00 00 01\n",
      "模式: 1\n",
      "\t帧头:               \t字节码: 55 aa 01\n",
      "\t指令: dac_in        \t字节码: 02 01 02 00 00\n",
      "模式: 1\n",
      "\t帧头:               \t字节码: 55 aa 01\n",
      "\t指令: fast_command_1\t字节码: 01 00 00 00 01\n",
      "模式: 1\n",
      "\t帧头:               \t字节码: 55 aa 01\n",
      "\t指令: dac_in        \t字节码: 02 01 04 00 ff\n",
      "模式: 1\n",
      "\t帧头:               \t字节码: 55 aa 01\n",
      "\t指令: fast_command_1\t字节码: 01 00 00 00 01\n",
      "\n",
      "指令完整字节码:  55aa010200020000\n",
      "指令完整字节码:  55aa010100000001\n",
      "指令完整字节码:  55aa0102000400ff\n",
      "指令完整字节码:  55aa010100000001\n",
      "指令完整字节码:  55aa010201020000\n",
      "指令完整字节码:  55aa010100000001\n",
      "指令完整字节码:  55aa0102010400ff\n",
      "指令完整字节码:  55aa010100000001\n",
      "Failed to send message:\n",
      "模式: 1\n",
      "\t帧头:           \t字节码: 55 aa 01\n",
      "\t指令: device_cfg\t字节码: 07 00 00 00 00\n",
      "\n",
      "指令完整字节码:  55aa010700000000\n",
      "Failed to send message:\n"
     ]
    }
   ],
   "source": [
    "chip=CHIP(PS(\"192.168.1.10\", 7,debug=1))\n",
    "chip.set_device_cfg(0)"
   ]
  },
  {
   "cell_type": "code",
   "execution_count": 3,
   "id": "bf4c4fad",
   "metadata": {},
   "outputs": [
    {
     "name": "stdout",
     "output_type": "stream",
     "text": [
      "模式: 4\n",
      "\t帧头:               \t字节码: 55 aa 04\n",
      "\t指令: pl_ram_addr   \t字节码: 00 00\n",
      "\t指令: pl_data_length\t字节码: 00 0c\n",
      "\t指令: pl_dac_v      \t字节码: 03 00 00 00\n",
      "\t指令: pl_dac_v      \t字节码: 03 01 00 00\n",
      "\t指令: pl_dac_v      \t字节码: 03 02 00 00\n",
      "\t指令: pl_dac_v      \t字节码: 03 03 00 00\n",
      "\t指令: pl_dac_v      \t字节码: 03 04 00 00\n",
      "\t指令: pl_dac_v      \t字节码: 03 05 00 00\n",
      "\t指令: pl_dac_v      \t字节码: 03 06 00 00\n",
      "\t指令: pl_dac_v      \t字节码: 03 07 00 00\n",
      "\t指令: pl_dac_v      \t字节码: 03 08 00 00\n",
      "\t指令: pl_dac_v      \t字节码: 03 09 00 00\n",
      "\t指令: pl_dac_v      \t字节码: 03 0a 00 00\n",
      "\t指令: pl_dac_v      \t字节码: 03 0b 00 00\n",
      "模式: 1\n",
      "\t帧头:               \t字节码: 55 aa 01\n",
      "\t指令: ins_num       \t字节码: 1c 00 00 00 0c\n",
      "模式: 1\n",
      "\t帧头:               \t字节码: 55 aa 01\n",
      "\t指令: fast_command_1\t字节码: 01 00 00 80 00\n",
      "\n",
      "指令完整字节码:  55aa040000000c03000000030100000302000003030000030400000305000003060000030700000308000003090000030a0000030b0000\n",
      "指令完整字节码:  55aa011c0000000c\n",
      "指令完整字节码:  55aa010100008000\n",
      "Failed to send message:\n",
      "模式: 1\n",
      "\t帧头:          \t字节码: 55 aa 01\n",
      "\t指令: pulse_cyc\t字节码: 1b 05 f5 e1 00\n",
      "\n",
      "指令完整字节码:  55aa011b05f5e100\n",
      "Failed to send message:\n",
      "模式: 5\n",
      "\t帧头:               \t字节码: 55 aa 05\n",
      "\t指令: pl_ram_addr   \t字节码: 00 00\n",
      "\t指令: pl_data_length\t字节码: 00 03\n",
      "\t指令: pl_data       \t字节码: 00 00 00 00\n",
      "\t指令: pl_data       \t字节码: 00 01 00 00\n",
      "\t指令: pl_data       \t字节码: 00 00 00 01\n",
      "\n",
      "指令完整字节码:  55aa0500000003000000000001000000000001\n",
      "Failed to send message:\n",
      "模式: 4\n",
      "\t帧头:                   \t字节码: 55 aa 04\n",
      "\t指令: pl_ram_addr       \t字节码: 00 00\n",
      "\t指令: pl_data_length    \t字节码: 00 0a\n",
      "\t指令: pl_dac_v          \t字节码: 03 06 ff f0\n",
      "\t指令: pl_dac_v          \t字节码: 03 08 05 10\n",
      "\t指令: pl_cim_rstn       \t字节码: 08 00 00 00\n",
      "\t指令: pl_row_bank       \t字节码: 01 00 01 01\n",
      "\t指令: pl_col_bank       \t字节码: 02 00 02 02\n",
      "\t指令: pl_write_row_pulse\t字节码: 06 00 00 00\n",
      "\t指令: pl_cim_rstn       \t字节码: 08 00 00 00\n",
      "\t指令: pl_row_bank       \t字节码: 01 00 04 02\n",
      "\t指令: pl_col_bank       \t字节码: 02 00 04 02\n",
      "\t指令: pl_write_row_pulse\t字节码: 06 00 00 00\n",
      "模式: 1\n",
      "\t帧头:                   \t字节码: 55 aa 01\n",
      "\t指令: ins_num           \t字节码: 1c 00 00 00 0a\n",
      "模式: 1\n",
      "\t帧头:                   \t字节码: 55 aa 01\n",
      "\t指令: fast_command_1    \t字节码: 01 00 00 80 00\n",
      "\n",
      "指令完整字节码:  55aa040000000a0306fff0030805100800000001000101020002020600000008000000010004020200040206000000\n",
      "指令完整字节码:  55aa011c0000000a\n",
      "指令完整字节码:  55aa010100008000\n",
      "Failed to send message:\n"
     ]
    }
   ],
   "source": [
    "res = np.zeros((256,256))\n",
    "# res[0] = np.ones((1,256))\n",
    "res[128,128] = 1\n",
    "res[32,64] = 1\n",
    "chip.write_point2(device_array=res,write_voltage=0.1,tg=5,pulse_width=1,set_device=True)"
   ]
  },
  {
   "cell_type": "code",
   "execution_count": null,
   "id": "49c1f893",
   "metadata": {},
   "outputs": [],
   "source": [
    "chip.set_op_mode(read=False,row=True)\n",
    "chip.write2(row_index=[0],col_index=[i for i in range(0,256,2)],write_voltage=2,tg=5)\n",
    "\n",
    "\n",
    "# chip.write2(row_index=[i for i in range(0,256,2)],col_index=[2],write_voltage=2,tg=5)"
   ]
  },
  {
   "cell_type": "code",
   "execution_count": null,
   "id": "a5eeeabb",
   "metadata": {},
   "outputs": [],
   "source": [
    "chip.set_op_mode(read=True,row=True)\n",
    "chip.read_crossbar2(row_index=[0,2,4,6],col_index=[i for i in range(256)],read_voltage=0.1,tg=5,gain = 1,row = True,)"
   ]
  },
  {
   "cell_type": "code",
   "execution_count": null,
   "id": "ae49ef78",
   "metadata": {},
   "outputs": [],
   "source": [
    "bank_data = [ i for i in range(3,31)]\n",
    "chunks = [bank_data[i:i+4] for i in range(0, len(bank_data), 4)]\n",
    "print(chunks)"
   ]
  },
  {
   "cell_type": "code",
   "execution_count": null,
   "id": "6182f84d",
   "metadata": {},
   "outputs": [],
   "source": [
    "col_data = chip.get_bank_index_tia([i for i in range(256)])\n",
    "read_batch = chip.tia_split(col_data,check_tia=True)\n",
    "\n",
    "for i in read_batch:\n",
    "    print(i)"
   ]
  },
  {
   "cell_type": "code",
   "execution_count": null,
   "id": "7768218f",
   "metadata": {},
   "outputs": [],
   "source": [
    "\n",
    "for row_index in row_index_list:\n",
    "    row_tmp = []\n",
    "    row_data = chip.get_bank_index_tia(row_index)\n",
    "    row_bank = chip.bank_split(row_data)\n",
    "    for i in row_bank:\n",
    "        bank,index = chip.get_bank_index32(i)"
   ]
  },
  {
   "cell_type": "code",
   "execution_count": 5,
   "id": "8e1e7ce7",
   "metadata": {},
   "outputs": [],
   "source": [
    "def write2(self,row_index:list,col_index:list,write_voltage:float,tg:float = 5):\n",
    "    \"\"\"\n",
    "        写器件, row_index为行索引, col_index为列索引\n",
    "    \"\"\"\n",
    "    assert self.op_mode == \"write\",\"未设置为写模式。\"\n",
    "\n",
    "    self.write_voltage = write_voltage\n",
    "    # print(self.get_setting_info())\n",
    "    # ----------------------------------------------从行还是列去写\n",
    "    if self.from_row:\n",
    "        # 从行写\n",
    "        row_bank_ins, col_bank_ins =  PL_ROW_BANK, PL_COL_BANK\n",
    "        write_ins = PL_WRITE_ROW_PULSE\n",
    "    else:\n",
    "        # 从列读\n",
    "        row_index, col_index = col_index, row_index\n",
    "        row_bank_ins, col_bank_ins =  PL_COL_BANK, PL_ROW_BANK\n",
    "        write_ins = PL_WRITE_COL_PULSE\n",
    "\n",
    "    # ----------------------------------------------ins_ram,din_ram的地址\n",
    "    ins_ram_start = 0\n",
    "    din_ram_start = 0\n",
    "\n",
    "    # ----------------------------------------------发送要配置的bank的数据进去\n",
    "    res_row_bank,res_col_bank,_ = self.send_read_din_ram2([row_index],col_index,din_ram_start,False)\n",
    "\n",
    "    # ----------------------------------------------准备指令序列\n",
    "    ins_data = []#self.get_dac_ins2(v=write_voltage,tg=tg)                                         # 配置电压\n",
    "\n",
    "    ins_data.append(CMD(PL_CIM_RESET))\n",
    "    for bank,din_ram_pos in res_row_bank[0]:\n",
    "        ins_data.append(CMD(row_bank_ins,command_data=CmdData(bank<<8|din_ram_pos)))            # 从din_ram的din_ram_pos位置取数据配置bank\n",
    "\n",
    "    for bank,din_ram_pos in res_col_bank[0]:\n",
    "        ins_data.append(CMD(col_bank_ins,command_data=CmdData(bank<<8|din_ram_pos)))            # 从din_ram的din_ram_pos位置取数据配置bank\n",
    "\n",
    "    ins_data.append(CMD(write_ins))                                                             # 写脉冲\n",
    "\n",
    "    num = len(ins_data)\n",
    "    ins_data.insert(0,CMD(PL_DATA_LENGTH,command_data=CmdData(num)))\n",
    "    ins_data.insert(0,CMD(PL_RAM_ADDR,command_data=CmdData(ins_ram_start)))\n",
    "\n",
    "    # ----------------------------------------------发送指令序列并执行\n",
    "    pkts=Packet()\n",
    "    pkts.append_single(ins_data,mode=4)\n",
    "    pkts.append_single([CMD(INS_NUM,command_data=CmdData(num))],mode=1)\n",
    "    pkts.append_single([CMD(FAST_COMMAND_1,command_data=CmdData(FAST_COMMAND1_CONF.cfg_ins_run))],mode=1)\n",
    "    self.ps.send_packets(pkts)"
   ]
  },
  {
   "cell_type": "code",
   "execution_count": 8,
   "id": "bf05fa1f",
   "metadata": {},
   "outputs": [],
   "source": [
    "def set_device(row,col,write_voltage,tg,pulse_width):\n",
    "    # chip.set_op_mode2(read=False,row=True,clearv=False)\n",
    "    # chip.set_pulse_width(pulse_width)\n",
    "    write2(chip,row_index=[row],col_index=[col],write_voltage=write_voltage,tg=tg)"
   ]
  },
  {
   "cell_type": "code",
   "execution_count": null,
   "id": "45a6759c",
   "metadata": {},
   "outputs": [],
   "source": [
    "chip.ps.debug=1\n",
    "for i in range(256):\n",
    "    print(f\"----------------------------------------------------------第{i}列-----------------------------------------------------------\")\n",
    "    set_device(100,i,2,2.5,1)"
   ]
  },
  {
   "cell_type": "code",
   "execution_count": null,
   "id": "9c088bca",
   "metadata": {},
   "outputs": [],
   "source": [
    "for i in range(65,103,2):\n",
    "    print(i)"
   ]
  },
  {
   "cell_type": "code",
   "execution_count": null,
   "id": "845dfd5d",
   "metadata": {},
   "outputs": [],
   "source": [
    "chip.ps.debug=True\n",
    "chip.set_op_mode2(read=True,row=True)\n",
    "# chip.set_dac_read_V(v=0.1,tg=5)\n",
    "# chip.set_tia_gain(3)\n",
    "chip.set_op_mode2(read=True,row=True)"
   ]
  },
  {
   "cell_type": "code",
   "execution_count": null,
   "id": "ecffcdd6",
   "metadata": {},
   "outputs": [],
   "source": [
    "# vres,cres = chip.read(row_index=[0],col_index=[i for i in range(256)],all_tia=False,tia_flag=True)\n",
    "# print(vres)\n",
    "chip.ps.debug=True\n",
    "vres,cres = chip.read2(\n",
    "    row_index=[i for i in range(0,32,2)],\n",
    "    col_index=[i for i in range(256)],\n",
    "    read_voltage=0.1,tg=5,\n",
    "    check_tia=True,sum=True\n",
    ")\n",
    "for i in vres:\n",
    "    print(i)\n",
    "print(vres)"
   ]
  },
  {
   "cell_type": "code",
   "execution_count": null,
   "id": "4983d47f",
   "metadata": {},
   "outputs": [],
   "source": [
    "vres,cres = chip.read(row_index=[i for i in range(256)],col_index=[1],all_tia=False,tia_flag=True)\n",
    "print(vres)\n",
    "\n",
    "vres,cres = chip.read2(row_index=[i for i in range(256)],col_index=[1],read_voltage=0.1,tg=5,all_tia=False,tia_flag=True)\n",
    "print(vres)"
   ]
  },
  {
   "cell_type": "code",
   "execution_count": null,
   "id": "260c0881",
   "metadata": {},
   "outputs": [],
   "source": [
    "for i in range(7):\n",
    "    print(chip.bank_to_num([i]))\n",
    "    print(len(chip.bank_to_num([i,i+1])))"
   ]
  },
  {
   "cell_type": "code",
   "execution_count": null,
   "id": "929d1c32",
   "metadata": {},
   "outputs": [],
   "source": []
  },
  {
   "cell_type": "code",
   "execution_count": null,
   "id": "10695d6b",
   "metadata": {},
   "outputs": [],
   "source": [
    "chip.set_device_cfg(deviceType=0)\n",
    "for i in range(16):\n",
    "    print(chip.tia_to_num([i],row=False))"
   ]
  },
  {
   "cell_type": "code",
   "execution_count": null,
   "id": "d6aff347",
   "metadata": {},
   "outputs": [],
   "source": [
    "import numpy as np"
   ]
  },
  {
   "cell_type": "code",
   "execution_count": null,
   "id": "b2696da5",
   "metadata": {},
   "outputs": [],
   "source": [
    "\n",
    "device_array = np.ones((256,256))\n",
    "row,col = device_array.shape\n",
    "points = []\n",
    "# 因为行/列bank都是间隔2, 所以为了避免更多的切行列bank, 尽量使得一个bank的挨在一起\n",
    "for i_start in range(2):\n",
    "    for i in range(i_start,row,2):\n",
    "        col_index = [j for j in range(0,col,2) if device_array[i][j]>0.5] + [j for j in range(1,col,2) if device_array[i][j]>0.5]\n",
    "        points += [(i,j) for j in col_index]  \n",
    "for i in range(0,len(points),32):\n",
    "    print(points[i:i+32])\n"
   ]
  },
  {
   "cell_type": "code",
   "execution_count": 3,
   "id": "f81b7678",
   "metadata": {},
   "outputs": [],
   "source": [
    "chip.set_device_cfg(deviceType=1)"
   ]
  },
  {
   "cell_type": "code",
   "execution_count": null,
   "id": "2486ea2e",
   "metadata": {},
   "outputs": [],
   "source": [
    "chip.ps.debug = True\n",
    "chip.set_op_mode2(read=True,row=False)\n",
    "vres,_ = chip.read2(row_index=[i for i in range(256)],col_index=[0],read_voltage=0.1,tia_flag=True)\n",
    "print(vres)"
   ]
  },
  {
   "cell_type": "code",
   "execution_count": 5,
   "id": "e18b57c0",
   "metadata": {},
   "outputs": [],
   "source": [
    "ps.debug = True"
   ]
  },
  {
   "cell_type": "code",
   "execution_count": null,
   "id": "eac509f1",
   "metadata": {},
   "outputs": [],
   "source": [
    "cmd=[\n",
    "    CMD(PL_DATA,command_data=CmdData(0x1234_5678)),\n",
    "    CMD(PL_DATA,command_data=CmdData(0x8765_4321)),\n",
    "]\n",
    "\n",
    "cmd.insert(0,CMD(PL_DATA_LENGTH,command_data=CmdData(len(cmd))))\n",
    "cmd.insert(0,CMD(PL_RAM_ADDR,command_data=CmdData(0)))\n",
    "\n",
    "pkts=Packet()\n",
    "pkts.append_single(cmd,mode=5)\n",
    "ps.send_packets(pkts)"
   ]
  },
  {
   "cell_type": "code",
   "execution_count": 4,
   "id": "ede6756a",
   "metadata": {},
   "outputs": [],
   "source": [
    "ps.debug = True\n",
    "ps.enable = True"
   ]
  },
  {
   "cell_type": "code",
   "execution_count": null,
   "id": "6c0290fd",
   "metadata": {},
   "outputs": [],
   "source": [
    "cmd=[\n",
    "    CMD(PL_ROW_BANK,command_data=CmdData(1<<(1+8) | 0)),\n",
    "    CMD(PL_COL_BANK,command_data=CmdData(1<<(2+8) | 1)),\n",
    "    CMD(PL_DAC_V,command_data=CmdData(12<<16 | 0xFFF0)),\n",
    "    CMD(PL_WRITE_ROW_PULSE),\n",
    "    CMD(PL_WRITE_COL_PULSE),\n",
    "    CMD(PL_READ_ROW_PULSE,command_data=CmdData(0)),\n",
    "    CMD(PL_READ_COL_PULSE,command_data=CmdData(1)),\n",
    "]\n",
    "num = len(cmd)\n",
    "cmd.insert(0,CMD(PL_DATA_LENGTH,command_data=CmdData(num)))\n",
    "cmd.insert(0,CMD(PL_RAM_ADDR,command_data=CmdData(0)))\n",
    "\n",
    "pkts=Packet()\n",
    "pkts.append_single(cmd,mode=4)\n",
    "pkts.append_cmdlist([\n",
    "    CMD(INS_NUM,command_data=CmdData(num)),\n",
    "    CMD(FAST_COMMAND_1,command_data=CmdData(FAST_COMMAND1_CONF.cfg_ins_run)),\n",
    "],mode=1)\n",
    "\n",
    "ps.send_packets(pkts)\n",
    "ps.send_packets(pkts)"
   ]
  },
  {
   "cell_type": "code",
   "execution_count": null,
   "id": "af3e8927",
   "metadata": {},
   "outputs": [],
   "source": [
    "cmd=[\n",
    "    CMD(PL_RAM_ADDR,command_data=CmdData(0)),\n",
    "    CMD(PL_DATA_LENGTH,command_data=CmdData(2))\n",
    "    # CMD(PL_DAC_V,command_data=CmdData(dac_channel<<16 | voltage))\n",
    "]\n",
    "\n",
    "# cmd.insert(0,CMD(PL_DATA_LENGTH,command_data=CmdData(len(cmd))))\n",
    "# cmd.insert(0,CMD(PL_RAM_ADDR,command_data=CmdData(0)))\n",
    "\n",
    "pkts=Packet()\n",
    "pkts.append_single(cmd,mode=6)\n",
    "ps.send_packets(pkts)\n",
    "\n",
    "\n",
    "\n",
    "message=ps.receive_packet()\n",
    "print(message.hex())"
   ]
  },
  {
   "cell_type": "code",
   "execution_count": null,
   "id": "310cbe73",
   "metadata": {},
   "outputs": [],
   "source": [
    "\n",
    "row_bank=[[],[1]]\n",
    "row_bank = [i for i in row_bank if len(i)>0]\n",
    "print(row_bank)"
   ]
  },
  {
   "cell_type": "code",
   "execution_count": null,
   "id": "b892f07d",
   "metadata": {},
   "outputs": [],
   "source": [
    "cmd=[\n",
    "    CMD(PL_DATA,command_data=CmdData(0x1234_5678)),\n",
    "    CMD(PL_DATA,command_data=CmdData(0x8765_4321)),\n",
    "    # CMD(PL_DATA,command_data=CmdData(0xFFFF_FFFF)),\n",
    "]\n",
    "\n",
    "cmd.insert(0,CMD(PL_DATA_LENGTH,command_data=CmdData(len(cmd))))\n",
    "cmd.insert(0,CMD(PL_RAM_ADDR,command_data=CmdData(0)))\n",
    "\n",
    "pkts=Packet()\n",
    "pkts.append_single(cmd,mode=5)\n",
    "ps.send_packets(pkts)"
   ]
  },
  {
   "cell_type": "code",
   "execution_count": null,
   "id": "a0741149",
   "metadata": {},
   "outputs": [],
   "source": [
    "# chip.read_set(row=True,v=0.1,gain=3)\n",
    "message_cond = []\n",
    "message_v = []\n",
    "for TIA_num in [i for i in range(16)]:\n",
    "    adc_num, adc_channel = int(TIA_num/4),TIA_num%4\n",
    "\n",
    "    channel_map = {0: 'A', 1: 'B', 2: 'C', 3: 'D'}\n",
    "    pkts=Packet()\n",
    "    adc_out = CMD(dict(\n",
    "        command_addr = 65+TIA_num,\n",
    "        command_type = COMMAND_TYPE[1],\n",
    "        n_addr_bytes = N_ADDR_BYTES[0],\n",
    "        n_data_bytes = N_DATA_BYTES[0],\n",
    "        command_name = f\"adc{adc_num}_out{channel_map[adc_channel]}\",\n",
    "        command_data = CmdData(0),\n",
    "        command_description = \"从ADC对应通道读取数据\"\n",
    "    ))\n",
    "    pkts.append_cmdlist([adc_out],mode=2)\n",
    "    print(pkts)\n",
    "    # 发送指令\n",
    "    ps.send_packets(pkts)\n",
    "    # 接收信息\n",
    "    # 高16bit: 0, 低16bit: 寄存器的16bit值\n",
    "    message = ps.receive_packet(f\"adc读取:{adc_out.command_name}\")\n",
    "    print(message.hex())"
   ]
  },
  {
   "cell_type": "code",
   "execution_count": null,
   "id": "fbb698e4",
   "metadata": {},
   "outputs": [],
   "source": [
    "# bank = 1\n",
    "# din_ram_add = 10\n",
    "\n",
    "# dac_channel = 12\n",
    "\n",
    "cmd=[\n",
    "    CMD(PL_RAM_ADDR,command_data=CmdData(0)),\n",
    "    CMD(PL_DATA_LENGTH,command_data=CmdData(1))\n",
    "    # CMD(PL_DAC_V,command_data=CmdData(dac_channel<<16 | voltage))\n",
    "]\n",
    "\n",
    "# cmd.insert(0,CMD(PL_DATA_LENGTH,command_data=CmdData(len(cmd))))\n",
    "# cmd.insert(0,CMD(PL_RAM_ADDR,command_data=CmdData(0)))\n",
    "\n",
    "pkts=Packet()\n",
    "pkts.append_single(cmd,mode=6)\n",
    "ps.send_packets(pkts)\n",
    "print(pkts)\n",
    "\n",
    "\n",
    "message=ps.receive_packet()\n",
    "print(message.hex())"
   ]
  },
  {
   "cell_type": "code",
   "execution_count": null,
   "id": "c1bce08a",
   "metadata": {},
   "outputs": [],
   "source": [
    "print(message.hex()[0:4])\n",
    "# adc通道 1, 0, 3, 2...... "
   ]
  },
  {
   "cell_type": "code",
   "execution_count": null,
   "id": "7b8bde7b",
   "metadata": {},
   "outputs": [],
   "source": [
    "test=CMD(DAC_IN,command_data=CmdData(1<<24|0x0400ff))\n",
    "\n",
    "test = CMD(CIM_BANK_SEL,command_data=CmdData(1<<7))\n",
    "print(bytes(test))\n",
    "\n",
    "\n",
    "print(test.concatenate().to_bytes((test.n_addr_bytes + test.n_data_bytes), \"little\"))"
   ]
  },
  {
   "cell_type": "code",
   "execution_count": null,
   "id": "b5ce7cc1",
   "metadata": {},
   "outputs": [],
   "source": [
    "value = 0x1111_FFFF\n",
    "big_endian_bytes = value.to_bytes(4, byteorder='big')\n",
    "\n",
    "print(big_endian_bytes)"
   ]
  },
  {
   "cell_type": "code",
   "execution_count": null,
   "id": "6f9f296f",
   "metadata": {},
   "outputs": [],
   "source": [
    "# 用于和下位机交互通信\n",
    "ps=PS(1,1,delay=10*1e-3,debug=False)\n",
    "# 控制ADC\n",
    "adc=ADC(ps)\n",
    "# 控制DAC\n",
    "dac=DAC(ps)\n",
    "# 芯片, 读写操作, device_cfg\n",
    "chip=CHIP(adc,dac,ps)"
   ]
  },
  {
   "cell_type": "code",
   "execution_count": null,
   "id": "f173fb57",
   "metadata": {},
   "outputs": [],
   "source": [
    "chip.set_device_cfg(deviceType=1)\n",
    "chip.set_read_mode(row=True)\n",
    "chip.set_dac_read_V(0.1)\n",
    "chip.adc.set_gain(3)\n",
    "# i,num,bank, index, tia\n",
    "res=chip.read_row_or_col(row_index=[1],col_index=[2,54,19,10,120,240,197,127,138])\n",
    "print(res)"
   ]
  },
  {
   "cell_type": "code",
   "execution_count": null,
   "id": "860c8231",
   "metadata": {},
   "outputs": [],
   "source": [
    "for i in range(0,255,2):\n",
    "    print(i+1,\"\\t\",chip.numToBank_Index(i))\n",
    "\n",
    "for i in range(1,256,2):\n",
    "    print(i+1,\"\\t\",chip.numToBank_Index(i))"
   ]
  },
  {
   "cell_type": "code",
   "execution_count": null,
   "id": "5a1bfa52",
   "metadata": {},
   "outputs": [],
   "source": [
    "for i in range(0,255,2):\n",
    "    print(i+1,\"\\t\",adc.TIA_index_map(i,device=0,col=True))\n",
    "\n",
    "for i in range(1,256,2):\n",
    "    print(i+1,\"\\t\",adc.TIA_index_map(i,device=0,col=True))"
   ]
  },
  {
   "cell_type": "code",
   "execution_count": null,
   "id": "c737ffd6",
   "metadata": {},
   "outputs": [],
   "source": [
    "print(adc.TIA_index_map(33))"
   ]
  },
  {
   "cell_type": "markdown",
   "id": "88119448",
   "metadata": {},
   "source": [
    "### 测试indexMap"
   ]
  },
  {
   "cell_type": "code",
   "execution_count": null,
   "id": "c089a563",
   "metadata": {},
   "outputs": [],
   "source": [
    "x = 255\n",
    "bank,index = numToBank_Index(x)\n",
    "print(f\"bank = {bank}, index = {index}\")"
   ]
  },
  {
   "cell_type": "code",
   "execution_count": null,
   "id": "cc9741c9",
   "metadata": {},
   "outputs": [],
   "source": [
    "import cimCommand.singleCmdInfo as SCD\n",
    "\n",
    "singleCmd=[]\n",
    "for attribute_name in dir(SCD):\n",
    "    attribute_value = getattr(SCD, attribute_name)\n",
    "    if type(attribute_value)==dict:\n",
    "        command_name=attribute_value.get(\"command_name\",None)\n",
    "        if command_name:\n",
    "            singleCmd.append(attribute_value)\n",
    "singleCmd.sort(key=lambda x: x['command_addr'])\n",
    "for k,v in enumerate(singleCmd):\n",
    "    # print(v)\n",
    "    print(CMD(v))"
   ]
  },
  {
   "cell_type": "code",
   "execution_count": null,
   "id": "bd070887",
   "metadata": {},
   "outputs": [],
   "source": [
    "from CIMcommand import CMD,FAST_COMMAND_0,DAC_IN,DAC_CTR\n",
    "from util import *\n",
    "print(CMD(DAC_IN,command_data=(1<<24)|7))\n",
    "print(CMD(DAC_CTR))"
   ]
  },
  {
   "cell_type": "code",
   "execution_count": null,
   "id": "2b9b860d",
   "metadata": {},
   "outputs": [],
   "source": [
    "data=0xF\n",
    "data=set_zero(data,5)\n",
    "print(bin(data))\n",
    "\n",
    "data=0xF\n",
    "data=set_one(data,5)\n",
    "print(bin(data))\n",
    "\n",
    "data=0xFFFF\n",
    "data=place_bit(data,1,4,0b0000)\n",
    "print(bin(data))"
   ]
  },
  {
   "cell_type": "code",
   "execution_count": null,
   "id": "d4bc59f763be286d",
   "metadata": {
    "ExecuteTime": {
     "end_time": "2024-10-29T07:59:49.375705Z",
     "start_time": "2024-10-29T07:59:49.370280Z"
    }
   },
   "outputs": [],
   "source": [
    "from pc.commands import *\n",
    "from pc.packets import *\n",
    "from pc.ps import *"
   ]
  },
  {
   "cell_type": "code",
   "execution_count": null,
   "id": "4450d191cb056557",
   "metadata": {
    "ExecuteTime": {
     "end_time": "2024-10-29T08:11:43.038374Z",
     "start_time": "2024-10-29T08:11:43.034333Z"
    }
   },
   "outputs": [],
   "source": [
    "cmd_list = [DAC_IN(0, 10), FAST_COMMAND_1(1)]\n",
    "packet = Packet(0, cmd_list)\n",
    "print(bytes(cmd_list[0]))\n",
    "# print(bytes(packet))\n",
    "\n",
    "# split_list = [1, 2, 3, 7, 8, 12]\n",
    "# split_name_list = ['帧头', '模式', 'reg地址', 'reg值', 'cmd地址', 'cmd值']\n",
    "# split_index = 0\n",
    "# res_bin = \"\"\n",
    "# for index, byte in enumerate(bytes(packet)):\n",
    "#     res_bin += format(byte, '08b')\n",
    "#     res_bin += \"\\t\"\n",
    "#     if index == split_list[split_index]:\n",
    "#         print(split_name_list[split_index] + \"\\t\\t\" + res_bin)\n",
    "#         res_bin = \"\"\n",
    "#         split_index += 1"
   ]
  },
  {
   "cell_type": "code",
   "execution_count": null,
   "id": "64661d35225b292c",
   "metadata": {
    "ExecuteTime": {
     "end_time": "2024-10-29T07:59:52.028691Z",
     "start_time": "2024-10-29T07:59:51.024521Z"
    }
   },
   "outputs": [],
   "source": [
    "ps = PS(\"192.168.1.10\", 7)\n"
   ]
  }
 ],
 "metadata": {
  "kernelspec": {
   "display_name": "base",
   "language": "python",
   "name": "python3"
  },
  "language_info": {
   "codemirror_mode": {
    "name": "ipython",
    "version": 3
   },
   "file_extension": ".py",
   "mimetype": "text/x-python",
   "name": "python",
   "nbconvert_exporter": "python",
   "pygments_lexer": "ipython3",
   "version": "3.11.5"
  }
 },
 "nbformat": 4,
 "nbformat_minor": 5
}
