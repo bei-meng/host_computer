{
 "cells": [
  {
   "cell_type": "markdown",
   "metadata": {},
   "source": [
    "### 1. 生成单条指令，并设置对应的数据"
   ]
  },
  {
   "cell_type": "code",
   "execution_count": 1,
   "metadata": {},
   "outputs": [
    {
     "name": "stdout",
     "output_type": "stream",
     "text": [
      "地址:\t2\n",
      "类型:\tRW\n",
      "位宽:\t32 bit\n",
      "名字:\tdac_in\n",
      "数据:\t16778767\n",
      "字节:\tb'\\x02\\x01\\x00\\x06\\x0f'\n",
      "描述:\t高8bit：0或1，选择dac。低24bit：spi写入DAC寄存器的24bit值\n",
      "\n",
      "地址:\t2\n",
      "类型:\tRW\n",
      "位宽:\t32 bit\n",
      "名字:\tdac_in\n",
      "数据:\t16777223\n",
      "字节:\tb'\\x02\\x01\\x00\\x00\\x07'\n",
      "描述:\t高8bit：0或1，选择dac。低24bit：spi写入DAC寄存器的24bit值\n",
      "\n"
     ]
    }
   ],
   "source": [
    "from cimCommand import CMD,CmdData\n",
    "from cimCommand.singleCmdInfo import *\n",
    "\n",
    "# 指令所需数据\n",
    "data=CmdData((1<<24)|7)\n",
    "# 更改数据位\n",
    "data.set_bit(3,1)               # 设置数据的第三位为1\n",
    "data.replace_bit(8,3,22)        # 设置数据从第[8位开始到11)，用22的低三位替换,22中超过3bit会被截断\n",
    "\n",
    "# 对应的指令，DAC_IN为指令相关信息，如果不设置command_data，就会用DAC_IN里面的默认信息初始化\n",
    "cmd=CMD(DAC_IN,command_data=data)\n",
    "print(cmd)\n",
    "\n",
    "cmd=CMD(DAC_IN,command_data=CmdData((1<<24)|7))\n",
    "print(cmd)"
   ]
  },
  {
   "cell_type": "markdown",
   "metadata": {},
   "source": [
    "### 2. 生成指令，并组合成packet数据"
   ]
  },
  {
   "cell_type": "code",
   "execution_count": 5,
   "metadata": {},
   "outputs": [],
   "source": [
    "from cimCommand import CMD,CmdData,Packet\n",
    "from cimCommand.singleCmdInfo import *"
   ]
  },
  {
   "cell_type": "code",
   "execution_count": 6,
   "metadata": {},
   "outputs": [
    {
     "name": "stdout",
     "output_type": "stream",
     "text": [
      "模式：0,指令：dac_in,指令：dac_in,指令：dac_in\n",
      "字节码：55 aa 00 02 00 00 00 07 02 00 00 00 08 02 00 00 00 09\n",
      "\n",
      "模式：0,指令：dac_in,指令：dac_in,指令：dac_in\n",
      "字节码：55 aa 00 02 00 00 00 07 02 00 00 00 08 02 00 00 00 09\n",
      "模式：1,指令：dac_in\n",
      "字节码：55 aa 01 02 00 00 00 07\n",
      "\n",
      "模式：0,指令：dac_in,指令：dac_in,指令：dac_in\n",
      "字节码：55 aa 00 02 00 00 00 07 02 00 00 00 08 02 00 00 00 09\n",
      "模式：1,指令：dac_in\n",
      "字节码：55 aa 01 02 00 00 00 07\n",
      "模式：2,指令：dac_in\n",
      "字节码：55 aa 02 02\n",
      "\n",
      "模式：0,指令：dac_in,指令：dac_in,指令：dac_in\n",
      "字节码：55 aa 00 02 00 00 00 07 02 00 00 00 08 02 00 00 00 09\n",
      "模式：1,指令：dac_in\n",
      "字节码：55 aa 01 02 00 00 00 07\n",
      "模式：2,指令：dac_in\n",
      "字节码：55 aa 02 02\n",
      "模式：3,指令：dac_in\n",
      "字节码：55 aa 03\n",
      "\n"
     ]
    }
   ],
   "source": [
    "# 生成packet\n",
    "pck=Packet()\n",
    "\n",
    "\n",
    "# 生成对应的指令\n",
    "cmd_list=[CMD(DAC_IN,command_data=CmdData(7)),CMD(DAC_IN,command_data=CmdData(8)),CMD(DAC_IN,command_data=CmdData(9))]\n",
    "# 将指令加入packet中\n",
    "pck.append_single(cmd_list,mode=0)\n",
    "print(pck)\n",
    "\n",
    "\n",
    "# 生成对应的指令\n",
    "cmd_list=[CMD(DAC_IN,command_data=CmdData(7))]\n",
    "# 将指令加入packet中\n",
    "pck.append_single(cmd_list,mode=1)\n",
    "print(pck)\n",
    "\n",
    "\n",
    "cmd_list=[CMD(DAC_IN,command_data=CmdData(7))]\n",
    "pck.append_single(cmd_list,mode=2)\n",
    "print(pck)\n",
    "\n",
    "\n",
    "cmd_list=[CMD(DAC_IN,command_data=CmdData(7))]\n",
    "pck.append_single(cmd_list,mode=3)\n",
    "print(pck)"
   ]
  },
  {
   "cell_type": "markdown",
   "metadata": {},
   "source": [
    "### 3. 将packet的数据发送到下位机"
   ]
  },
  {
   "cell_type": "code",
   "execution_count": 1,
   "metadata": {},
   "outputs": [],
   "source": [
    "from cimCommand import CMD,CmdData,Packet\n",
    "from cimCommand.singleCmdInfo import *\n",
    "from pc import PS\n",
    "import socket"
   ]
  },
  {
   "cell_type": "code",
   "execution_count": 2,
   "metadata": {},
   "outputs": [
    {
     "name": "stdout",
     "output_type": "stream",
     "text": [
      "Failed to connect: [WinError 10049] 在其上下文中，该请求的地址无效。\n",
      "None\n",
      "Connection closed.\n"
     ]
    }
   ],
   "source": [
    "# 连接下位机\n",
    "ps = PS(\"192.168.1.10\", 7,debug=True)\n",
    "\n",
    "# 打包成packet，包括指令\n",
    "packet=Packet()\n",
    "cmd_list=[CMD(DAC_IN,command_data=CmdData(7))]\n",
    "packet.append_cmdlist(cmd_list,mode=1)\n",
    "\n",
    "try:\n",
    "    ps.send_packets(packet)                                     # 发送\n",
    "    packet = ps.receive_packet()                                # 接收\n",
    "    print(packet)                                               # 打印\n",
    "except Exception as e:\n",
    "    print(f\"Failed to connect: {e}\")\n",
    "finally:\n",
    "    ps.close()"
   ]
  },
  {
   "cell_type": "markdown",
   "metadata": {},
   "source": [
    "### 4. 控制下位机执行相关指令"
   ]
  },
  {
   "cell_type": "code",
   "execution_count": 1,
   "metadata": {},
   "outputs": [],
   "source": [
    "from modules import ADC,DAC,CHIP\n",
    "from pc import PS"
   ]
  },
  {
   "cell_type": "code",
   "execution_count": 4,
   "metadata": {},
   "outputs": [],
   "source": [
    "# 用于和下位机交互通信\n",
    "ps=PS(1,1,delay=10*1e-3,debug=False)\n",
    "# 控制ADC\n",
    "adc=ADC(ps)\n",
    "# 控制DAC\n",
    "dac=DAC(ps)\n",
    "# 芯片，读写操作，device_cfg\n",
    "chip=CHIP(adc,dac,ps)"
   ]
  },
  {
   "cell_type": "code",
   "execution_count": 10,
   "metadata": {},
   "outputs": [
    {
     "name": "stdout",
     "output_type": "stream",
     "text": [
      "------------------------------ 发送指令: ------------------------------ \n",
      "模式：1,指令：adc_sample_times\n",
      "字节码：55 aa 01 18 00 00 00 20\n",
      "\n",
      "------------------------------ 指令发送完成！------------------------------ \n",
      "\n",
      "------------------------------ 发送指令: ------------------------------ \n",
      "模式：1,指令：dac_in\n",
      "字节码：55 aa 01 02 00 08 ff f0\n",
      "模式：1,指令：fast_command_1\n",
      "字节码：55 aa 01 01 00 00 00 01\n",
      "\n",
      "------------------------------ 指令发送完成！------------------------------ \n",
      "\n",
      "------------------------------ 发送指令: ------------------------------ \n",
      "模式：1,指令：device_cfg\n",
      "字节码：55 aa 01 07 00 07 ff fc\n",
      "\n",
      "------------------------------ 指令发送完成！------------------------------ \n",
      "\n",
      "------------------------------ 发送指令: ------------------------------ \n",
      "模式：1,指令：device_cfg\n",
      "字节码：55 aa 01 07 00 00 0f fc\n",
      "\n",
      "------------------------------ 指令发送完成！------------------------------ \n",
      "\n"
     ]
    }
   ],
   "source": [
    "ps.set_debug(True)\n",
    "\n",
    "adc.set_sample_times(32)\n",
    "dac.set_voltage(5,0,0)\n",
    "chip.set_device_cfg(pulse_cyc=255)\n",
    "chip.set_device_cfg(pulse_cyc=1)"
   ]
  }
 ],
 "metadata": {
  "kernelspec": {
   "display_name": "base",
   "language": "python",
   "name": "python3"
  },
  "language_info": {
   "codemirror_mode": {
    "name": "ipython",
    "version": 3
   },
   "file_extension": ".py",
   "mimetype": "text/x-python",
   "name": "python",
   "nbconvert_exporter": "python",
   "pygments_lexer": "ipython3",
   "version": "3.11.5"
  }
 },
 "nbformat": 4,
 "nbformat_minor": 2
}
