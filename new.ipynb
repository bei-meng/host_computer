{
 "cells": [
  {
   "cell_type": "code",
   "execution_count": 13,
   "metadata": {},
   "outputs": [],
   "source": [
    "import time\n",
    "import json\n",
    "import numpy as np\n",
    "import matplotlib.pyplot as plt\n",
    "from matplotlib.colors import BoundaryNorm\n",
    "from matplotlib.colors import Normalize\n",
    "from PIL import Image\n",
    "\n",
    "\n",
    "from pc import PS\n",
    "from modules import ADC,DAC,CHIP\n",
    "from cimCommand import CMD,CmdData,Packet\n",
    "from cimCommand.singleCmdInfo import *\n",
    "\n",
    "from util import plot_v_cond\n",
    "# 读取.npy文件\n",
    "# loaded_array = np.load('result/res_matrix0.npy')\n",
    "\n",
    "# np.savetxt('my_array.csv', loaded_array, delimiter=',', fmt='%d')\n",
    "\n",
    "# # 读取CSV文件\n",
    "# loaded_arr = np.loadtxt('my_array.csv', delimiter=',')\n",
    "\n",
    "# 打印加载的数组\n",
    "# print(loaded_arr)\n",
    "# # loaded_array = 1./loaded_array\n",
    "\n",
    "# # 打印数组\n",
    "# print(loaded_array)\n",
    "\n",
    "\n",
    "\n",
    "# cmap = plt.cm.viridis\n",
    "# norm = Normalize(vmin=0.5, vmax=100)\n",
    "# im = plt.imshow(loaded_array, cmap=cmap,norm=norm)\n",
    "\n",
    "# cbar = plt.colorbar(im)"
   ]
  },
  {
   "cell_type": "code",
   "execution_count": 16,
   "metadata": {},
   "outputs": [
    {
     "data": {
      "image/png": "[encoded data removed]",
      "text/plain": [
       "<Figure size 640x480 with 1 Axes>"
      ]
     },
     "metadata": {},
     "output_type": "display_data"
    }
   ],
   "source": [
    "img = Image.open('images/zju.png').convert('L')\n",
    "img = img.resize((256, 256), Image.LANCZOS)\n",
    "\n",
    "img = np.array(img)\n",
    "img = np.where(img >= 128, 0, 1).astype(np.uint8)\n",
    "\n",
    "# row,col = img.shape\n",
    "# for i in range(row):\n",
    "#     for j in range(col):\n",
    "#         print(img[i,j],end=' ')\n",
    "#     print('')\n",
    "\n",
    "plt.imshow(img[:30,:], cmap='gray')\n",
    "plt.axis('off')\n",
    "plt.show()\n"
   ]
  }
 ],
 "metadata": {
  "kernelspec": {
   "display_name": "base",
   "language": "python",
   "name": "python3"
  },
  "language_info": {
   "codemirror_mode": {
    "name": "ipython",
    "version": 3
   },
   "file_extension": ".py",
   "mimetype": "text/x-python",
   "name": "python",
   "nbconvert_exporter": "python",
   "pygments_lexer": "ipython3",
   "version": "3.12.3"
  }
 },
 "nbformat": 4,
 "nbformat_minor": 2
}
